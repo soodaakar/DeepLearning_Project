{
 "cells": [
  {
   "cell_type": "code",
   "execution_count": 28,
   "metadata": {},
   "outputs": [],
   "source": [
    "import pandas as pd\n",
    "import numpy as np\n",
    "import wfdb\n",
    "import ast\n",
    "from tqdm import tqdm\n",
    "import warnings; warnings.filterwarnings('ignore')\n",
    "from IPython.display import display\n",
    "\n",
    "import matplotlib.pyplot as plt\n",
    "import seaborn as sns\n",
    "%matplotlib inline\n",
    "import ecg_plot\n",
    "import os\n",
    "import cv2\n",
    "import tqdm\n",
    "import tensorflow as tf\n",
    "import tensorflow.keras as keras\n",
    "from tensorflow.keras.layers import Conv2D, Flatten, LSTM, Dense\n",
    "from sklearn.metrics import fbeta_score, roc_auc_score, roc_curve, roc_curve, auc\n",
    "from keras_preprocessing.image import ImageDataGenerator\n",
    "from tensorflow.keras.models import Sequential\n",
    "from tensorflow.keras.layers import Conv2D, TimeDistributed, Dense, MaxPooling2D\n",
    "from keras.applications import resnet\n",
    "from keras.layers import GlobalAveragePooling2D, Dropout\n",
    "from keras.models import Model\n",
    "from keras.callbacks import EarlyStopping, ModelCheckpoint\n",
    "from keras.models import load_model\n",
    "from keras.regularizers import l2\n",
    "import numpy as np\n",
    "import matplotlib.pyplot as plt\n",
    "from itertools import cycle\n",
    "from sklearn.metrics import roc_curve, auc\n",
    "from sklearn.metrics import roc_auc_score\n"
   ]
  },
  {
   "cell_type": "markdown",
   "metadata": {},
   "source": [
    "# Data Loader"
   ]
  },
  {
   "cell_type": "code",
   "execution_count": 4,
   "metadata": {},
   "outputs": [],
   "source": [
    "def remove_all_0(target_train):\n",
    "    target_train = target_train.loc[~((target_train.NORM ==0) & (target_train.MI ==0) \n",
    "                & (target_train.STTC ==0) & (target_train.HYP ==0) & (target_train.CD ==0))]\n",
    "    return target_train"
   ]
  },
  {
   "cell_type": "code",
   "execution_count": 5,
   "metadata": {},
   "outputs": [],
   "source": [
    "superclass_cols = np.array(['NORM', 'MI', 'STTC', 'HYP', 'CD'])"
   ]
  },
  {
   "cell_type": "code",
   "execution_count": 6,
   "metadata": {},
   "outputs": [
    {
     "name": "stdout",
     "output_type": "stream",
     "text": [
      "target shapes for train test and validation are\n",
      "(17441, 6)   (2203, 6)   (2193, 6)\n"
     ]
    }
   ],
   "source": [
    "target_train = pd.read_csv('target_train.csv')\n",
    "target_valid = pd.read_csv('target_valid.csv')\n",
    "target_test = pd.read_csv('target_test.csv')\n",
    "print(\"target shapes for train test and validation are\")\n",
    "print(target_train.shape, ' ', target_test.shape, ' ', target_valid.shape)"
   ]
  },
  {
   "cell_type": "code",
   "execution_count": 7,
   "metadata": {},
   "outputs": [],
   "source": [
    "train_folder = (os.path.join('train_images', 'tweleve_img'))\n",
    "test_folder = (os.path.join('test_images', 'tweleve_img'))\n",
    "valid_folder = (os.path.join('valid_images', 'tweleve_img'))"
   ]
  },
  {
   "cell_type": "code",
   "execution_count": 8,
   "metadata": {},
   "outputs": [],
   "source": [
    "train_datagen=ImageDataGenerator(rescale=1./255.)\n",
    "test_datagen=ImageDataGenerator(rescale=1./255.)\n",
    "valid_datagen = ImageDataGenerator(rescale=1./255.)"
   ]
  },
  {
   "cell_type": "code",
   "execution_count": 9,
   "metadata": {},
   "outputs": [],
   "source": [
    "batch_size_gen = 32"
   ]
  },
  {
   "cell_type": "code",
   "execution_count": 10,
   "metadata": {},
   "outputs": [],
   "source": [
    "target_train = remove_all_0(target_train)\n",
    "target_test = remove_all_0(target_test)\n",
    "target_valid = remove_all_0(target_valid)"
   ]
  },
  {
   "cell_type": "code",
   "execution_count": 11,
   "metadata": {
    "id": "RVVrO-Wf5idE"
   },
   "outputs": [],
   "source": [
    "size = (int(761/2), int(2066/2))"
   ]
  },
  {
   "cell_type": "code",
   "execution_count": 12,
   "metadata": {
    "colab": {
     "base_uri": "https://localhost:8080/"
    },
    "id": "PUsNQd_2vxPz",
    "outputId": "ea2296dd-de13-4710-c2c0-1d69d3507149"
   },
   "outputs": [
    {
     "name": "stdout",
     "output_type": "stream",
     "text": [
      "Found 17111 validated image filenames.\n"
     ]
    }
   ],
   "source": [
    "train_generator=train_datagen.flow_from_dataframe(\n",
    "    dataframe=target_train,\n",
    "    directory=train_folder,\n",
    "    x_col=\"index_img\",\n",
    "    y_col=superclass_cols,\n",
    "    batch_size=batch_size_gen,\n",
    "    seed=42,\n",
    "    shuffle=True,\n",
    "    class_mode=\"raw\",\n",
    "    color_mode=\"grayscale\",\n",
    "    target_size=size)"
   ]
  },
  {
   "cell_type": "code",
   "execution_count": 13,
   "metadata": {
    "colab": {
     "base_uri": "https://localhost:8080/"
    },
    "id": "GADb8KtyvxP0",
    "outputId": "278a88b3-d18c-4099-c168-54e4cf7cdbc0"
   },
   "outputs": [
    {
     "name": "stdout",
     "output_type": "stream",
     "text": [
      "Found 2163 validated image filenames.\n"
     ]
    }
   ],
   "source": [
    "test_generator=test_datagen.flow_from_dataframe(\n",
    "    dataframe=target_test,\n",
    "    directory=test_folder,\n",
    "    x_col=\"index_img\",\n",
    "    y_col=superclass_cols,\n",
    "    batch_size=batch_size_gen,\n",
    "    seed=42,\n",
    "    shuffle=True,\n",
    "    class_mode=\"raw\",\n",
    "    color_mode=\"grayscale\",\n",
    "    target_size=size)"
   ]
  },
  {
   "cell_type": "code",
   "execution_count": 14,
   "metadata": {
    "colab": {
     "base_uri": "https://localhost:8080/"
    },
    "id": "w6ZJlo_lvxP0",
    "outputId": "38cca1a3-6254-4f90-f86b-e717d4384ba6"
   },
   "outputs": [
    {
     "name": "stdout",
     "output_type": "stream",
     "text": [
      "Found 2156 validated image filenames.\n"
     ]
    }
   ],
   "source": [
    "valid_generator=train_datagen.flow_from_dataframe(\n",
    "    dataframe=target_valid,\n",
    "    directory=valid_folder,\n",
    "    x_col=\"index_img\",\n",
    "    y_col=superclass_cols,\n",
    "    batch_size=batch_size_gen,\n",
    "    seed=42,\n",
    "    shuffle=True,\n",
    "    class_mode=\"raw\",\n",
    "    color_mode=\"grayscale\",\n",
    "    target_size=size)"
   ]
  },
  {
   "cell_type": "code",
   "execution_count": 15,
   "metadata": {},
   "outputs": [],
   "source": [
    "def extract_generators(train_datagen, test_datagen, valid_datagen, size, color_mode = 'grayscale'):\n",
    "    train_generator=train_datagen.flow_from_dataframe(\n",
    "    dataframe=target_train,\n",
    "    directory=train_folder,\n",
    "    x_col=\"index_img\",\n",
    "    y_col=superclass_cols,\n",
    "    batch_size=batch_size_gen,\n",
    "    seed=42,\n",
    "    shuffle=True,\n",
    "    class_mode=\"raw\",\n",
    "    color_mode=color_mode,\n",
    "    target_size=size)\n",
    "\n",
    "    test_generator=test_datagen.flow_from_dataframe(\n",
    "    dataframe=target_test,\n",
    "    directory=test_folder,\n",
    "    x_col=\"index_img\",\n",
    "    y_col=superclass_cols,\n",
    "    batch_size=batch_size_gen,\n",
    "    seed=42,\n",
    "    shuffle=True,\n",
    "    class_mode=\"raw\",\n",
    "    color_mode=color_mode,\n",
    "    target_size=size)\n",
    "\n",
    "    valid_generator=valid_datagen.flow_from_dataframe(\n",
    "    dataframe=target_valid,\n",
    "    directory=valid_folder,\n",
    "    x_col=\"index_img\",\n",
    "    y_col=superclass_cols,\n",
    "    batch_size=batch_size_gen,\n",
    "    seed=42,\n",
    "    shuffle=True,\n",
    "    class_mode=\"raw\",\n",
    "    color_mode=color_mode,\n",
    "    target_size=size)\n",
    "\n",
    "    return train_generator, valid_generator, test_generator"
   ]
  },
  {
   "cell_type": "markdown",
   "metadata": {},
   "source": [
    "# Metric functions\n",
    "\n",
    "Defining metric functions as used in the reference paper"
   ]
  },
  {
   "cell_type": "code",
   "execution_count": 16,
   "metadata": {},
   "outputs": [],
   "source": [
    "def apply_thresholds(preds, thresholds):\n",
    "    \"\"\"\n",
    "        apply class-wise thresholds to prediction score in order to get binary format.\n",
    "        BUT: if no score is above threshold, pick maximum. This is needed due to metric issues.\n",
    "    \"\"\"\n",
    "    tmp = []\n",
    "    for p in preds:\n",
    "        tmp_p = (p > thresholds).astype(int)\n",
    "        if np.sum(tmp_p) == 0:\n",
    "            tmp_p[np.argmax(p)] = 1\n",
    "        tmp.append(tmp_p)\n",
    "    tmp = np.array(tmp)\n",
    "    return tmp\n",
    "\n",
    "def evaluate_experiment(y_true, y_pred, thresholds=None):\n",
    "    results = {}\n",
    "\n",
    "    if not thresholds is None:\n",
    "        # binary predictions\n",
    "        y_pred_binary = apply_thresholds(y_pred, thresholds)\n",
    "        # PhysioNet/CinC Challenges metrics\n",
    "        challenge_scores = challenge_metrics(y_true, y_pred_binary, beta1=2, beta2=2)\n",
    "        results['F_beta_macro'] = challenge_scores['F_beta_macro']\n",
    "        results['G_beta_macro'] = challenge_scores['G_beta_macro']\n",
    "\n",
    "    # label based metric\n",
    "    results['macro_auc'] = roc_auc_score(y_true, y_pred, average='macro')\n",
    "    \n",
    "    df_result = pd.DataFrame(results, index=[0])\n",
    "    return df_result\n",
    "\n",
    "def challenge_metrics(y_true, y_pred, beta1=2, beta2=2, class_weights=None, single=False):\n",
    "    f_beta = 0\n",
    "    g_beta = 0\n",
    "    if single: # if evaluating single class in case of threshold-optimization\n",
    "        sample_weights = np.ones(y_true.sum(axis=1).shape)\n",
    "    else:\n",
    "        sample_weights = y_true.sum(axis=1)\n",
    "    for classi in range(y_true.shape[1]):\n",
    "        y_truei, y_predi = y_true[:,classi], y_pred[:,classi]\n",
    "        TP, FP, TN, FN = 0.,0.,0.,0.\n",
    "        for i in range(len(y_predi)):\n",
    "            sample_weight = sample_weights[i]\n",
    "            if y_truei[i]==y_predi[i]==1: \n",
    "                TP += 1./sample_weight\n",
    "            if ((y_predi[i]==1) and (y_truei[i]!=y_predi[i])): \n",
    "                FP += 1./sample_weight\n",
    "            if y_truei[i]==y_predi[i]==0: \n",
    "                TN += 1./sample_weight\n",
    "            if ((y_predi[i]==0) and (y_truei[i]!=y_predi[i])): \n",
    "                FN += 1./sample_weight \n",
    "        f_beta_i = ((1+beta1**2)*TP)/((1+beta1**2)*TP + FP + (beta1**2)*FN)\n",
    "        g_beta_i = (TP)/(TP+FP+beta2*FN)\n",
    "\n",
    "        f_beta += f_beta_i\n",
    "        g_beta += g_beta_i\n",
    "\n",
    "    return {'F_beta_macro':f_beta/y_true.shape[1], 'G_beta_macro':g_beta/y_true.shape[1]}"
   ]
  },
  {
   "cell_type": "code",
   "execution_count": 17,
   "metadata": {},
   "outputs": [],
   "source": [
    "class Metrics(keras.callbacks.Callback):\n",
    "    \"Obtains score using user-supplied function func (potentially ignoring targets with ignore_idx)\"\n",
    "    def __init__(self, val_data, batch_size = batch_size_gen):\n",
    "        super().__init__()\n",
    "        self.validation_data = val_data\n",
    "        self.batch_size = batch_size\n",
    "        self._data = []\n",
    "        \n",
    "\n",
    "    def on_train_begin(self, logs={}):\n",
    "        print(self.validation_data)\n",
    "\n",
    "    def on_epoch_end(self, batch, logs={}):\n",
    "        ls_summary = []\n",
    "        batches = len(self.validation_data)\n",
    "        total = batches * self.batch_size\n",
    "        \n",
    "        val_pred = np.zeros((total,5))\n",
    "        val_true = np.zeros((total,5))\n",
    "        \n",
    "        for batch in range(batches):\n",
    "            xVal, yVal = next(self.validation_data)\n",
    "            val_pred = self.model.predict(xVal)\n",
    "            val_true = yVal\n",
    "            df = evaluate_experiment(val_true, val_pred)\n",
    "            ls_summary.extend(df.values[0])\n",
    "\n",
    "        self._data.append({\n",
    "            'val_score': np.mean(ls_summary),\n",
    "        })\n",
    "        return\n",
    "\n",
    "    def get_data(self):\n",
    "        return self._data"
   ]
  },
  {
   "cell_type": "code",
   "execution_count": 18,
   "metadata": {},
   "outputs": [],
   "source": [
    "def get_thresholds(true, pred):\n",
    "    p = []\n",
    "    for i in range(0,5):\n",
    "        fpr, tpr, thresholds = roc_curve(true[:,i], pred[:,i])\n",
    "        gmeans = np.sqrt(tpr * (1-fpr))\n",
    "        ix = np.argmax(gmeans)\n",
    "        print('Best Threshold=%f, G-Mean=%.3f' % (thresholds[ix], gmeans[ix]))\n",
    "        p.append(thresholds[ix])\n",
    "    return p "
   ]
  },
  {
   "cell_type": "code",
   "execution_count": 29,
   "metadata": {},
   "outputs": [],
   "source": [
    "def plotAUC_ROC(true_test_all, preds_test_all, classes = superclass_cols, data_type = 'Test Data'):\n",
    "    '''\n",
    "    plots micro, macro & class wise AUC-ROC for a multilabel data\n",
    "    Source: https://scikit-learn.org/stable/auto_examples/model_selection/plot_roc.html\n",
    "    '''\n",
    "    n_classes = len(classes)\n",
    "    # Compute ROC curve and ROC area for each class\n",
    "    fpr = dict()\n",
    "    tpr = dict()\n",
    "    roc_auc = dict()\n",
    "    for i in range(n_classes):\n",
    "        fpr[i], tpr[i], _ = roc_curve(true_test_all[:, i], preds_test_all[:, i])\n",
    "        roc_auc[i] = auc(fpr[i], tpr[i])\n",
    " \n",
    "    # Compute micro-average ROC curve and ROC area   \n",
    "    fpr[\"micro\"], tpr[\"micro\"], _ = roc_curve(true_test_all.ravel(), preds_test_all.ravel())\n",
    "    roc_auc[\"micro\"] = auc(fpr[\"micro\"], tpr[\"micro\"])\n",
    "    lw = 2\n",
    " \n",
    "    # Compute macro-average ROC curve and ROC area\n",
    "    # First aggregate all false positive rates\n",
    "    all_fpr = np.unique(np.concatenate([fpr[i] for i in range(n_classes)]))\n",
    " \n",
    "    # Then interpolate all ROC curves at this points\n",
    "    mean_tpr = np.zeros_like(all_fpr)\n",
    "    for i in range(n_classes):\n",
    "        mean_tpr += np.interp(all_fpr, fpr[i], tpr[i])\n",
    " \n",
    "    # Finally average it and compute AUC\n",
    "    mean_tpr /= n_classes\n",
    " \n",
    "    fpr[\"macro\"] = all_fpr\n",
    "    tpr[\"macro\"] = mean_tpr\n",
    "    roc_auc[\"macro\"] = auc(fpr[\"macro\"], tpr[\"macro\"])\n",
    " \n",
    "    # Plot all ROC curves\n",
    "    plt.figure()\n",
    "    plt.plot(\n",
    "        fpr[\"micro\"],\n",
    "        tpr[\"micro\"],\n",
    "        label=\"micro-average ROC curve (area = {0:0.2f})\".format(roc_auc[\"micro\"]),\n",
    "        color=\"deeppink\",\n",
    "        linestyle=\":\",\n",
    "        linewidth=4,\n",
    "    )\n",
    " \n",
    "    plt.plot(\n",
    "        fpr[\"macro\"],\n",
    "        tpr[\"macro\"],\n",
    "        label=\"macro-average ROC curve (area = {0:0.2f})\".format(roc_auc[\"macro\"]),\n",
    "        color=\"navy\",\n",
    "        linestyle=\":\",\n",
    "        linewidth=4,\n",
    "    )\n",
    " \n",
    "    colors = cycle([\"aqua\", \"darkorange\", \"cornflowerblue\"])\n",
    "    for i, color in zip(range(n_classes), colors):\n",
    "        plt.plot(\n",
    "            fpr[i],\n",
    "            tpr[i],\n",
    "            color=color,\n",
    "            lw=lw,\n",
    "            label=\"ROC curve of class {0} (area = {1:0.2f})\".format(superclass_cols[i], roc_auc[i]),\n",
    "        )\n",
    " \n",
    "    plt.plot([0, 1], [0, 1], \"k--\", lw=lw)\n",
    "    plt.xlim([0.0, 1.0])\n",
    "    plt.ylim([0.0, 1.05])\n",
    "    plt.xlabel(\"False Positive Rate\")\n",
    "    plt.ylabel(\"True Positive Rate\")\n",
    "    plt.title(\"AUC for {}\".format(data_type))\n",
    "    plt.legend(loc=\"lower right\")\n",
    "    plt.show()\n",
    " "
   ]
  },
  {
   "cell_type": "markdown",
   "metadata": {},
   "source": [
    "# Model Building\n",
    "\n",
    "In the reference paper, the approach taken is to do 1d convolution and feature extraction directly on the signals data. By converting the signals of all 12 nodes to images we try to apply convolution on generated images instead of signals."
   ]
  },
  {
   "cell_type": "markdown",
   "metadata": {},
   "source": [
    "# CNN"
   ]
  },
  {
   "cell_type": "code",
   "execution_count": 107,
   "metadata": {},
   "outputs": [
    {
     "name": "stdout",
     "output_type": "stream",
     "text": [
      "Found 17111 validated image filenames.\n",
      "Found 2163 validated image filenames.\n",
      "Found 2156 validated image filenames.\n"
     ]
    }
   ],
   "source": [
    "size = (int(761/2), int(2066/2))\n",
    "train_generator, valid_generator,test_generator = extract_generators(train_datagen, test_datagen,\n",
    "                                        valid_datagen, size = size )"
   ]
  },
  {
   "cell_type": "code",
   "execution_count": 102,
   "metadata": {
    "id": "qS6CeeCVvxP1"
   },
   "outputs": [],
   "source": [
    "metrics = Metrics(val_data = valid_generator)\n",
    "es=EarlyStopping(monitor='val_accuracy', mode='max', verbose=1, patience=5)\n",
    "mc = ModelCheckpoint('cnn_21thmay.h5', monitor='val_accuracy'\n",
    "                    ,mode='max',save_best_only=True)"
   ]
  },
  {
   "cell_type": "code",
   "execution_count": 105,
   "metadata": {
    "id": "yi0Kjzy2vxP1"
   },
   "outputs": [],
   "source": [
    "cnn = Sequential()\n",
    "cnn.add(Conv2D(filters = 10, kernel_size=(5,5),  kernel_regularizer=l2(0.01), bias_regularizer=l2(0.01),strides=(1,1), input_shape = (*size,  1)))\n",
    "cnn.add(MaxPooling2D(pool_size = (2,2)))\n",
    "cnn.add(Conv2D(filters = 10, kernel_size=(3,3), strides=(1,1), kernel_regularizer=l2(0.01), bias_regularizer=l2(0.01)))\n",
    "cnn.add(MaxPooling2D(pool_size = (2,2)))\n",
    "cnn.add(Conv2D(filters = 20, kernel_size=(3,3), strides=(1,1), kernel_regularizer=l2(0.01), bias_regularizer=l2(0.01)))\n",
    "cnn.add(MaxPooling2D(pool_size = (2,2)))\n",
    "cnn.add(Conv2D(filters = 20, kernel_size=(5,5), strides=(1,1), kernel_regularizer=l2(0.01), bias_regularizer=l2(0.01)))\n",
    "cnn.add(MaxPooling2D(pool_size = (2,2)))\n",
    "cnn.add(Conv2D(filters = 20, kernel_size=(5,5), strides=(1,1), kernel_regularizer=l2(0.01), bias_regularizer=l2(0.01)))\n",
    "cnn.add(MaxPooling2D(pool_size = (2,2)))\n",
    "cnn.add(Flatten())\n",
    "cnn.add(Dense(5, activation='sigmoid'))"
   ]
  },
  {
   "cell_type": "code",
   "execution_count": null,
   "metadata": {
    "id": "br1dGEU4vxP2"
   },
   "outputs": [],
   "source": [
    "cnn.compile(optimizer='Adam', loss = 'binary_crossentropy', metrics='accuracy')"
   ]
  },
  {
   "cell_type": "code",
   "execution_count": null,
   "metadata": {},
   "outputs": [
    {
     "name": "stdout",
     "output_type": "stream",
     "text": [
      "Model: \"sequential_1\"\n",
      "_________________________________________________________________\n",
      " Layer (type)                Output Shape              Param #   \n",
      "=================================================================\n",
      " conv2d_4 (Conv2D)           (None, 380, 1033, 10)     20        \n",
      "                                                                 \n",
      " max_pooling2d_4 (MaxPooling  (None, 190, 516, 10)     0         \n",
      " 2D)                                                             \n",
      "                                                                 \n",
      " conv2d_5 (Conv2D)           (None, 190, 514, 10)      310       \n",
      "                                                                 \n",
      " max_pooling2d_5 (MaxPooling  (None, 95, 257, 10)      0         \n",
      " 2D)                                                             \n",
      "                                                                 \n",
      " conv2d_6 (Conv2D)           (None, 95, 253, 20)       1020      \n",
      "                                                                 \n",
      " max_pooling2d_6 (MaxPooling  (None, 47, 126, 20)      0         \n",
      " 2D)                                                             \n",
      "                                                                 \n",
      " conv2d_7 (Conv2D)           (None, 47, 119, 20)       3220      \n",
      "                                                                 \n",
      " max_pooling2d_7 (MaxPooling  (None, 23, 59, 20)       0         \n",
      " 2D)                                                             \n",
      "                                                                 \n",
      " flatten_1 (Flatten)         (None, 27140)             0         \n",
      "                                                                 \n",
      " dense_1 (Dense)             (None, 5)                 135705    \n",
      "                                                                 \n",
      "=================================================================\n",
      "Total params: 140,275\n",
      "Trainable params: 140,275\n",
      "Non-trainable params: 0\n",
      "_________________________________________________________________\n"
     ]
    }
   ],
   "source": [
    "cnn.summary()"
   ]
  },
  {
   "cell_type": "code",
   "execution_count": null,
   "metadata": {
    "id": "U4NCplbmvxP2",
    "scrolled": true
   },
   "outputs": [
    {
     "name": "stdout",
     "output_type": "stream",
     "text": [
      "Epoch 1/100\n"
     ]
    },
    {
     "name": "stderr",
     "output_type": "stream",
     "text": [
      "2022-05-21 17:51:26.744769: W tensorflow/core/platform/profile_utils/cpu_utils.cc:128] Failed to get CPU frequency: 0 Hz\n",
      "2022-05-21 17:51:27.152243: I tensorflow/core/grappler/optimizers/custom_graph_optimizer_registry.cc:113] Plugin optimizer for device_type GPU is enabled.\n"
     ]
    },
    {
     "name": "stdout",
     "output_type": "stream",
     "text": [
      "535/535 [==============================] - ETA: 0s - loss: 0.6964 - accuracy: 0.5569"
     ]
    },
    {
     "name": "stderr",
     "output_type": "stream",
     "text": [
      "2022-05-21 17:58:22.505527: I tensorflow/core/grappler/optimizers/custom_graph_optimizer_registry.cc:113] Plugin optimizer for device_type GPU is enabled.\n"
     ]
    },
    {
     "name": "stdout",
     "output_type": "stream",
     "text": [
      "535/535 [==============================] - 468s 870ms/step - loss: 0.6964 - accuracy: 0.5569 - val_loss: 0.5170 - val_accuracy: 0.6025\n",
      "Epoch 2/100\n",
      "535/535 [==============================] - 464s 867ms/step - loss: 0.4619 - accuracy: 0.6207 - val_loss: 0.4308 - val_accuracy: 0.6354\n",
      "Epoch 3/100\n",
      "535/535 [==============================] - 467s 872ms/step - loss: 0.4106 - accuracy: 0.6308 - val_loss: 0.4091 - val_accuracy: 0.6299\n",
      "Epoch 4/100\n",
      "535/535 [==============================] - 466s 871ms/step - loss: 0.3914 - accuracy: 0.6363 - val_loss: 0.4039 - val_accuracy: 0.6095\n",
      "Epoch 5/100\n",
      "535/535 [==============================] - 466s 870ms/step - loss: 0.3824 - accuracy: 0.6422 - val_loss: 0.3973 - val_accuracy: 0.6368\n",
      "Epoch 6/100\n",
      "535/535 [==============================] - 467s 872ms/step - loss: 0.3756 - accuracy: 0.6482 - val_loss: 0.3953 - val_accuracy: 0.6248\n",
      "Epoch 7/100\n",
      "535/535 [==============================] - 465s 869ms/step - loss: 0.3720 - accuracy: 0.6519 - val_loss: 0.3932 - val_accuracy: 0.6382\n",
      "Epoch 8/100\n",
      "535/535 [==============================] - 481s 899ms/step - loss: 0.3659 - accuracy: 0.6537 - val_loss: 0.3920 - val_accuracy: 0.6442\n",
      "Epoch 9/100\n",
      "535/535 [==============================] - 468s 874ms/step - loss: 0.3611 - accuracy: 0.6616 - val_loss: 0.3996 - val_accuracy: 0.6401\n",
      "Epoch 10/100\n",
      "535/535 [==============================] - 469s 875ms/step - loss: 0.3561 - accuracy: 0.6668 - val_loss: 0.3992 - val_accuracy: 0.6364\n",
      "Epoch 11/100\n",
      "535/535 [==============================] - 465s 869ms/step - loss: 0.3494 - accuracy: 0.6773 - val_loss: 0.4066 - val_accuracy: 0.6248\n",
      "Epoch 12/100\n",
      "535/535 [==============================] - 464s 867ms/step - loss: 0.3438 - accuracy: 0.6799 - val_loss: 0.4074 - val_accuracy: 0.6401\n",
      "Epoch 13/100\n",
      "535/535 [==============================] - 464s 867ms/step - loss: 0.3368 - accuracy: 0.6908 - val_loss: 0.4105 - val_accuracy: 0.6424\n",
      "Epoch 13: early stopping\n"
     ]
    }
   ],
   "source": [
    "clf = cnn.fit_generator(train_generator,  validation_data=valid_generator, epochs=100, \n",
    "                  verbose = 1, callbacks=[mc, es])"
   ]
  },
  {
   "cell_type": "markdown",
   "metadata": {},
   "source": [
    "## load and predict"
   ]
  },
  {
   "cell_type": "code",
   "execution_count": 25,
   "metadata": {},
   "outputs": [
    {
     "name": "stdout",
     "output_type": "stream",
     "text": [
      "Found 17111 validated image filenames.\n",
      "Found 2163 validated image filenames.\n",
      "Found 2156 validated image filenames.\n"
     ]
    }
   ],
   "source": [
    "size = (int(761/2), int(2066/2))\n",
    "train_generator, valid_generator,test_generator = extract_generators(train_datagen, test_datagen,\n",
    "                                        valid_datagen, size = size )"
   ]
  },
  {
   "cell_type": "code",
   "execution_count": 31,
   "metadata": {},
   "outputs": [
    {
     "name": "stderr",
     "output_type": "stream",
     "text": [
      "  0%|          | 0/68 [00:00<?, ?it/s]2022-05-22 21:11:25.645261: I tensorflow/core/grappler/optimizers/custom_graph_optimizer_registry.cc:113] Plugin optimizer for device_type GPU is enabled.\n",
      " 99%|█████████▊| 67/68 [01:01<00:00,  1.11it/s]2022-05-22 21:12:26.833490: I tensorflow/core/grappler/optimizers/custom_graph_optimizer_registry.cc:113] Plugin optimizer for device_type GPU is enabled.\n",
      "100%|██████████| 68/68 [01:02<00:00,  1.10it/s]"
     ]
    },
    {
     "name": "stdout",
     "output_type": "stream",
     "text": [
      "Best Threshold=0.347961, G-Mean=0.828\n",
      "Best Threshold=0.274938, G-Mean=0.773\n",
      "Best Threshold=0.279921, G-Mean=0.808\n",
      "Best Threshold=0.125145, G-Mean=0.784\n",
      "Best Threshold=0.250704, G-Mean=0.787\n"
     ]
    },
    {
     "name": "stderr",
     "output_type": "stream",
     "text": [
      "\n"
     ]
    },
    {
     "data": {
      "image/png": "[encoded data removed]",
      "text/plain": [
       "<Figure size 432x288 with 1 Axes>"
      ]
     },
     "metadata": {
      "needs_background": "light"
     },
     "output_type": "display_data"
    },
    {
     "data": {
      "text/html": [
       "<div>\n",
       "<style scoped>\n",
       "    .dataframe tbody tr th:only-of-type {\n",
       "        vertical-align: middle;\n",
       "    }\n",
       "\n",
       "    .dataframe tbody tr th {\n",
       "        vertical-align: top;\n",
       "    }\n",
       "\n",
       "    .dataframe thead th {\n",
       "        text-align: right;\n",
       "    }\n",
       "</style>\n",
       "<table border=\"1\" class=\"dataframe\">\n",
       "  <thead>\n",
       "    <tr style=\"text-align: right;\">\n",
       "      <th></th>\n",
       "      <th>F_beta_macro</th>\n",
       "      <th>G_beta_macro</th>\n",
       "      <th>macro_auc</th>\n",
       "    </tr>\n",
       "  </thead>\n",
       "  <tbody>\n",
       "    <tr>\n",
       "      <th>0</th>\n",
       "      <td>0.697805</td>\n",
       "      <td>0.400756</td>\n",
       "      <td>0.868703</td>\n",
       "    </tr>\n",
       "  </tbody>\n",
       "</table>\n",
       "</div>"
      ],
      "text/plain": [
       "   F_beta_macro  G_beta_macro  macro_auc\n",
       "0      0.697805      0.400756   0.868703"
      ]
     },
     "execution_count": 31,
     "metadata": {},
     "output_type": "execute_result"
    }
   ],
   "source": [
    "data = valid_generator\n",
    "model = load_model('cnn_21thmay.h5')\n",
    "batches = len(data)\n",
    "all_true = []\n",
    "all_pred = []\n",
    "for batch in tqdm.tqdm(range(batches)):\n",
    "    xVal, yVal = next(data)\n",
    "    val_pred = model.predict(xVal)\n",
    "    val_true = yVal\n",
    "    all_true.append(val_true)\n",
    "    all_pred.append(val_pred)\n",
    "preds_array = np.concatenate(all_pred, axis = 0)\n",
    "true_array = np.concatenate(all_true, axis = 0)\n",
    "thresholds = get_thresholds(true=true_array, pred=preds_array)\n",
    "plotAUC_ROC(true_array, preds_array, superclass_cols, 'validation data CNN')\n",
    "evaluate_experiment(true_array, preds_array, thresholds=thresholds)"
   ]
  },
  {
   "cell_type": "code",
   "execution_count": 32,
   "metadata": {},
   "outputs": [
    {
     "name": "stderr",
     "output_type": "stream",
     "text": [
      "  0%|          | 0/68 [00:00<?, ?it/s]2022-05-22 21:12:27.925439: I tensorflow/core/grappler/optimizers/custom_graph_optimizer_registry.cc:113] Plugin optimizer for device_type GPU is enabled.\n",
      " 99%|█████████▊| 67/68 [01:00<00:00,  1.11it/s]2022-05-22 21:13:28.434306: I tensorflow/core/grappler/optimizers/custom_graph_optimizer_registry.cc:113] Plugin optimizer for device_type GPU is enabled.\n",
      "100%|██████████| 68/68 [01:01<00:00,  1.11it/s]"
     ]
    },
    {
     "name": "stdout",
     "output_type": "stream",
     "text": [
      "Best Threshold=0.454277, G-Mean=0.820\n",
      "Best Threshold=0.233414, G-Mean=0.736\n",
      "Best Threshold=0.228761, G-Mean=0.816\n",
      "Best Threshold=0.110087, G-Mean=0.771\n",
      "Best Threshold=0.264590, G-Mean=0.755\n"
     ]
    },
    {
     "name": "stderr",
     "output_type": "stream",
     "text": [
      "\n"
     ]
    },
    {
     "data": {
      "image/png": "[encoded data removed]",
      "text/plain": [
       "<Figure size 432x288 with 1 Axes>"
      ]
     },
     "metadata": {
      "needs_background": "light"
     },
     "output_type": "display_data"
    },
    {
     "data": {
      "text/html": [
       "<div>\n",
       "<style scoped>\n",
       "    .dataframe tbody tr th:only-of-type {\n",
       "        vertical-align: middle;\n",
       "    }\n",
       "\n",
       "    .dataframe tbody tr th {\n",
       "        vertical-align: top;\n",
       "    }\n",
       "\n",
       "    .dataframe thead th {\n",
       "        text-align: right;\n",
       "    }\n",
       "</style>\n",
       "<table border=\"1\" class=\"dataframe\">\n",
       "  <thead>\n",
       "    <tr style=\"text-align: right;\">\n",
       "      <th></th>\n",
       "      <th>F_beta_macro</th>\n",
       "      <th>G_beta_macro</th>\n",
       "      <th>macro_auc</th>\n",
       "    </tr>\n",
       "  </thead>\n",
       "  <tbody>\n",
       "    <tr>\n",
       "      <th>0</th>\n",
       "      <td>0.666784</td>\n",
       "      <td>0.370113</td>\n",
       "      <td>0.853667</td>\n",
       "    </tr>\n",
       "  </tbody>\n",
       "</table>\n",
       "</div>"
      ],
      "text/plain": [
       "   F_beta_macro  G_beta_macro  macro_auc\n",
       "0      0.666784      0.370113   0.853667"
      ]
     },
     "execution_count": 32,
     "metadata": {},
     "output_type": "execute_result"
    }
   ],
   "source": [
    "data = test_generator\n",
    "model = load_model('cnn_21thmay.h5')\n",
    "batches = len(data)\n",
    "all_true = []\n",
    "all_pred = []\n",
    "for batch in tqdm.tqdm(range(batches)):\n",
    "    xVal, yVal = next(data)\n",
    "    val_pred = model.predict(xVal)\n",
    "    val_true = yVal\n",
    "    all_true.append(val_true)\n",
    "    all_pred.append(val_pred)\n",
    "preds_array = np.concatenate(all_pred, axis = 0)\n",
    "true_array = np.concatenate(all_true, axis = 0)\n",
    "thresholds = get_thresholds(true=true_array, pred=preds_array)\n",
    "plotAUC_ROC(true_array, preds_array, superclass_cols, 'test data CNN')\n",
    "evaluate_experiment(true_array, preds_array, thresholds=thresholds)"
   ]
  },
  {
   "cell_type": "markdown",
   "metadata": {},
   "source": [
    "# RESNET"
   ]
  },
  {
   "cell_type": "code",
   "execution_count": 52,
   "metadata": {},
   "outputs": [],
   "source": [
    "from keras.applications import resnet\n",
    "from keras.layers import GlobalAveragePooling2D, Dropout\n",
    "from keras.models import Model\n",
    "from keras.callbacks import EarlyStopping, ModelCheckpoint"
   ]
  },
  {
   "cell_type": "code",
   "execution_count": 108,
   "metadata": {},
   "outputs": [
    {
     "name": "stdout",
     "output_type": "stream",
     "text": [
      "Found 17111 validated image filenames.\n",
      "Found 2163 validated image filenames.\n",
      "Found 2156 validated image filenames.\n"
     ]
    }
   ],
   "source": [
    "size = (int(761/1), int(2066/1))\n",
    "train_generator, valid_generator,test_generator = extract_generators(train_datagen, test_datagen,\n",
    "                                        valid_datagen, size = size, color_mode='rgb' )"
   ]
  },
  {
   "cell_type": "code",
   "execution_count": 53,
   "metadata": {},
   "outputs": [],
   "source": [
    "base_model = resnet.ResNet50(weights= 'imagenet', include_top=False, input_shape= (761,2066,3))\n",
    "x = base_model.output\n",
    "x = Conv2D(filters = 10, kernel_size=(5,5),  strides=(2,2))(x)\n",
    "x = MaxPooling2D(pool_size = (2,2))(x)\n",
    "x = Conv2D(filters = 20, kernel_size=(3,3), strides=(1,1))(x)\n",
    "x = MaxPooling2D(pool_size = (2,2))(x)\n",
    "x = Flatten()(x)\n",
    "predictions = (Dense(5, activation='sigmoid'))(x)\n",
    "model = Model(inputs = base_model.input, outputs = predictions)"
   ]
  },
  {
   "cell_type": "code",
   "execution_count": null,
   "metadata": {},
   "outputs": [],
   "source": [
    "for layers in base_model.layers:\n",
    "    layers.trainable = False"
   ]
  },
  {
   "cell_type": "code",
   "execution_count": null,
   "metadata": {},
   "outputs": [],
   "source": [
    "model.compile()"
   ]
  },
  {
   "cell_type": "code",
   "execution_count": null,
   "metadata": {},
   "outputs": [
    {
     "name": "stdout",
     "output_type": "stream",
     "text": [
      "Model: \"model\"\n",
      "__________________________________________________________________________________________________\n",
      " Layer (type)                   Output Shape         Param #     Connected to                     \n",
      "==================================================================================================\n",
      " input_1 (InputLayer)           [(None, 761, 2066,   0           []                               \n",
      "                                3)]                                                               \n",
      "                                                                                                  \n",
      " conv1_pad (ZeroPadding2D)      (None, 767, 2072, 3  0           ['input_1[0][0]']                \n",
      "                                )                                                                 \n",
      "                                                                                                  \n",
      " conv1_conv (Conv2D)            (None, 381, 1033, 6  9472        ['conv1_pad[0][0]']              \n",
      "                                4)                                                                \n",
      "                                                                                                  \n",
      " conv1_bn (BatchNormalization)  (None, 381, 1033, 6  256         ['conv1_conv[0][0]']             \n",
      "                                4)                                                                \n",
      "                                                                                                  \n",
      " conv1_relu (Activation)        (None, 381, 1033, 6  0           ['conv1_bn[0][0]']               \n",
      "                                4)                                                                \n",
      "                                                                                                  \n",
      " pool1_pad (ZeroPadding2D)      (None, 383, 1035, 6  0           ['conv1_relu[0][0]']             \n",
      "                                4)                                                                \n",
      "                                                                                                  \n",
      " pool1_pool (MaxPooling2D)      (None, 191, 517, 64  0           ['pool1_pad[0][0]']              \n",
      "                                )                                                                 \n",
      "                                                                                                  \n",
      " conv2_block1_1_conv (Conv2D)   (None, 191, 517, 64  4160        ['pool1_pool[0][0]']             \n",
      "                                )                                                                 \n",
      "                                                                                                  \n",
      " conv2_block1_1_bn (BatchNormal  (None, 191, 517, 64  256        ['conv2_block1_1_conv[0][0]']    \n",
      " ization)                       )                                                                 \n",
      "                                                                                                  \n",
      " conv2_block1_1_relu (Activatio  (None, 191, 517, 64  0          ['conv2_block1_1_bn[0][0]']      \n",
      " n)                             )                                                                 \n",
      "                                                                                                  \n",
      " conv2_block1_2_conv (Conv2D)   (None, 191, 517, 64  36928       ['conv2_block1_1_relu[0][0]']    \n",
      "                                )                                                                 \n",
      "                                                                                                  \n",
      " conv2_block1_2_bn (BatchNormal  (None, 191, 517, 64  256        ['conv2_block1_2_conv[0][0]']    \n",
      " ization)                       )                                                                 \n",
      "                                                                                                  \n",
      " conv2_block1_2_relu (Activatio  (None, 191, 517, 64  0          ['conv2_block1_2_bn[0][0]']      \n",
      " n)                             )                                                                 \n",
      "                                                                                                  \n",
      " conv2_block1_0_conv (Conv2D)   (None, 191, 517, 25  16640       ['pool1_pool[0][0]']             \n",
      "                                6)                                                                \n",
      "                                                                                                  \n",
      " conv2_block1_3_conv (Conv2D)   (None, 191, 517, 25  16640       ['conv2_block1_2_relu[0][0]']    \n",
      "                                6)                                                                \n",
      "                                                                                                  \n",
      " conv2_block1_0_bn (BatchNormal  (None, 191, 517, 25  1024       ['conv2_block1_0_conv[0][0]']    \n",
      " ization)                       6)                                                                \n",
      "                                                                                                  \n",
      " conv2_block1_3_bn (BatchNormal  (None, 191, 517, 25  1024       ['conv2_block1_3_conv[0][0]']    \n",
      " ization)                       6)                                                                \n",
      "                                                                                                  \n",
      " conv2_block1_add (Add)         (None, 191, 517, 25  0           ['conv2_block1_0_bn[0][0]',      \n",
      "                                6)                                'conv2_block1_3_bn[0][0]']      \n",
      "                                                                                                  \n",
      " conv2_block1_out (Activation)  (None, 191, 517, 25  0           ['conv2_block1_add[0][0]']       \n",
      "                                6)                                                                \n",
      "                                                                                                  \n",
      " conv2_block2_1_conv (Conv2D)   (None, 191, 517, 64  16448       ['conv2_block1_out[0][0]']       \n",
      "                                )                                                                 \n",
      "                                                                                                  \n",
      " conv2_block2_1_bn (BatchNormal  (None, 191, 517, 64  256        ['conv2_block2_1_conv[0][0]']    \n",
      " ization)                       )                                                                 \n",
      "                                                                                                  \n",
      " conv2_block2_1_relu (Activatio  (None, 191, 517, 64  0          ['conv2_block2_1_bn[0][0]']      \n",
      " n)                             )                                                                 \n",
      "                                                                                                  \n",
      " conv2_block2_2_conv (Conv2D)   (None, 191, 517, 64  36928       ['conv2_block2_1_relu[0][0]']    \n",
      "                                )                                                                 \n",
      "                                                                                                  \n",
      " conv2_block2_2_bn (BatchNormal  (None, 191, 517, 64  256        ['conv2_block2_2_conv[0][0]']    \n",
      " ization)                       )                                                                 \n",
      "                                                                                                  \n",
      " conv2_block2_2_relu (Activatio  (None, 191, 517, 64  0          ['conv2_block2_2_bn[0][0]']      \n",
      " n)                             )                                                                 \n",
      "                                                                                                  \n",
      " conv2_block2_3_conv (Conv2D)   (None, 191, 517, 25  16640       ['conv2_block2_2_relu[0][0]']    \n",
      "                                6)                                                                \n",
      "                                                                                                  \n",
      " conv2_block2_3_bn (BatchNormal  (None, 191, 517, 25  1024       ['conv2_block2_3_conv[0][0]']    \n",
      " ization)                       6)                                                                \n",
      "                                                                                                  \n",
      " conv2_block2_add (Add)         (None, 191, 517, 25  0           ['conv2_block1_out[0][0]',       \n",
      "                                6)                                'conv2_block2_3_bn[0][0]']      \n",
      "                                                                                                  \n",
      " conv2_block2_out (Activation)  (None, 191, 517, 25  0           ['conv2_block2_add[0][0]']       \n",
      "                                6)                                                                \n",
      "                                                                                                  \n",
      " conv2_block3_1_conv (Conv2D)   (None, 191, 517, 64  16448       ['conv2_block2_out[0][0]']       \n",
      "                                )                                                                 \n",
      "                                                                                                  \n",
      " conv2_block3_1_bn (BatchNormal  (None, 191, 517, 64  256        ['conv2_block3_1_conv[0][0]']    \n",
      " ization)                       )                                                                 \n",
      "                                                                                                  \n",
      " conv2_block3_1_relu (Activatio  (None, 191, 517, 64  0          ['conv2_block3_1_bn[0][0]']      \n",
      " n)                             )                                                                 \n",
      "                                                                                                  \n",
      " conv2_block3_2_conv (Conv2D)   (None, 191, 517, 64  36928       ['conv2_block3_1_relu[0][0]']    \n",
      "                                )                                                                 \n",
      "                                                                                                  \n",
      " conv2_block3_2_bn (BatchNormal  (None, 191, 517, 64  256        ['conv2_block3_2_conv[0][0]']    \n",
      " ization)                       )                                                                 \n",
      "                                                                                                  \n",
      " conv2_block3_2_relu (Activatio  (None, 191, 517, 64  0          ['conv2_block3_2_bn[0][0]']      \n",
      " n)                             )                                                                 \n",
      "                                                                                                  \n",
      " conv2_block3_3_conv (Conv2D)   (None, 191, 517, 25  16640       ['conv2_block3_2_relu[0][0]']    \n",
      "                                6)                                                                \n",
      "                                                                                                  \n",
      " conv2_block3_3_bn (BatchNormal  (None, 191, 517, 25  1024       ['conv2_block3_3_conv[0][0]']    \n",
      " ization)                       6)                                                                \n",
      "                                                                                                  \n",
      " conv2_block3_add (Add)         (None, 191, 517, 25  0           ['conv2_block2_out[0][0]',       \n",
      "                                6)                                'conv2_block3_3_bn[0][0]']      \n",
      "                                                                                                  \n",
      " conv2_block3_out (Activation)  (None, 191, 517, 25  0           ['conv2_block3_add[0][0]']       \n",
      "                                6)                                                                \n",
      "                                                                                                  \n",
      " conv3_block1_1_conv (Conv2D)   (None, 96, 259, 128  32896       ['conv2_block3_out[0][0]']       \n",
      "                                )                                                                 \n",
      "                                                                                                  \n",
      " conv3_block1_1_bn (BatchNormal  (None, 96, 259, 128  512        ['conv3_block1_1_conv[0][0]']    \n",
      " ization)                       )                                                                 \n",
      "                                                                                                  \n",
      " conv3_block1_1_relu (Activatio  (None, 96, 259, 128  0          ['conv3_block1_1_bn[0][0]']      \n",
      " n)                             )                                                                 \n",
      "                                                                                                  \n",
      " conv3_block1_2_conv (Conv2D)   (None, 96, 259, 128  147584      ['conv3_block1_1_relu[0][0]']    \n",
      "                                )                                                                 \n",
      "                                                                                                  \n",
      " conv3_block1_2_bn (BatchNormal  (None, 96, 259, 128  512        ['conv3_block1_2_conv[0][0]']    \n",
      " ization)                       )                                                                 \n",
      "                                                                                                  \n",
      " conv3_block1_2_relu (Activatio  (None, 96, 259, 128  0          ['conv3_block1_2_bn[0][0]']      \n",
      " n)                             )                                                                 \n",
      "                                                                                                  \n",
      " conv3_block1_0_conv (Conv2D)   (None, 96, 259, 512  131584      ['conv2_block3_out[0][0]']       \n",
      "                                )                                                                 \n",
      "                                                                                                  \n",
      " conv3_block1_3_conv (Conv2D)   (None, 96, 259, 512  66048       ['conv3_block1_2_relu[0][0]']    \n",
      "                                )                                                                 \n",
      "                                                                                                  \n",
      " conv3_block1_0_bn (BatchNormal  (None, 96, 259, 512  2048       ['conv3_block1_0_conv[0][0]']    \n",
      " ization)                       )                                                                 \n",
      "                                                                                                  \n",
      " conv3_block1_3_bn (BatchNormal  (None, 96, 259, 512  2048       ['conv3_block1_3_conv[0][0]']    \n",
      " ization)                       )                                                                 \n",
      "                                                                                                  \n",
      " conv3_block1_add (Add)         (None, 96, 259, 512  0           ['conv3_block1_0_bn[0][0]',      \n",
      "                                )                                 'conv3_block1_3_bn[0][0]']      \n",
      "                                                                                                  \n",
      " conv3_block1_out (Activation)  (None, 96, 259, 512  0           ['conv3_block1_add[0][0]']       \n",
      "                                )                                                                 \n",
      "                                                                                                  \n",
      " conv3_block2_1_conv (Conv2D)   (None, 96, 259, 128  65664       ['conv3_block1_out[0][0]']       \n",
      "                                )                                                                 \n",
      "                                                                                                  \n",
      " conv3_block2_1_bn (BatchNormal  (None, 96, 259, 128  512        ['conv3_block2_1_conv[0][0]']    \n",
      " ization)                       )                                                                 \n",
      "                                                                                                  \n",
      " conv3_block2_1_relu (Activatio  (None, 96, 259, 128  0          ['conv3_block2_1_bn[0][0]']      \n",
      " n)                             )                                                                 \n",
      "                                                                                                  \n",
      " conv3_block2_2_conv (Conv2D)   (None, 96, 259, 128  147584      ['conv3_block2_1_relu[0][0]']    \n",
      "                                )                                                                 \n",
      "                                                                                                  \n",
      " conv3_block2_2_bn (BatchNormal  (None, 96, 259, 128  512        ['conv3_block2_2_conv[0][0]']    \n",
      " ization)                       )                                                                 \n",
      "                                                                                                  \n",
      " conv3_block2_2_relu (Activatio  (None, 96, 259, 128  0          ['conv3_block2_2_bn[0][0]']      \n",
      " n)                             )                                                                 \n",
      "                                                                                                  \n",
      " conv3_block2_3_conv (Conv2D)   (None, 96, 259, 512  66048       ['conv3_block2_2_relu[0][0]']    \n",
      "                                )                                                                 \n",
      "                                                                                                  \n",
      " conv3_block2_3_bn (BatchNormal  (None, 96, 259, 512  2048       ['conv3_block2_3_conv[0][0]']    \n",
      " ization)                       )                                                                 \n",
      "                                                                                                  \n",
      " conv3_block2_add (Add)         (None, 96, 259, 512  0           ['conv3_block1_out[0][0]',       \n",
      "                                )                                 'conv3_block2_3_bn[0][0]']      \n",
      "                                                                                                  \n",
      " conv3_block2_out (Activation)  (None, 96, 259, 512  0           ['conv3_block2_add[0][0]']       \n",
      "                                )                                                                 \n",
      "                                                                                                  \n",
      " conv3_block3_1_conv (Conv2D)   (None, 96, 259, 128  65664       ['conv3_block2_out[0][0]']       \n",
      "                                )                                                                 \n",
      "                                                                                                  \n",
      " conv3_block3_1_bn (BatchNormal  (None, 96, 259, 128  512        ['conv3_block3_1_conv[0][0]']    \n",
      " ization)                       )                                                                 \n",
      "                                                                                                  \n",
      " conv3_block3_1_relu (Activatio  (None, 96, 259, 128  0          ['conv3_block3_1_bn[0][0]']      \n",
      " n)                             )                                                                 \n",
      "                                                                                                  \n",
      " conv3_block3_2_conv (Conv2D)   (None, 96, 259, 128  147584      ['conv3_block3_1_relu[0][0]']    \n",
      "                                )                                                                 \n",
      "                                                                                                  \n",
      " conv3_block3_2_bn (BatchNormal  (None, 96, 259, 128  512        ['conv3_block3_2_conv[0][0]']    \n",
      " ization)                       )                                                                 \n",
      "                                                                                                  \n",
      " conv3_block3_2_relu (Activatio  (None, 96, 259, 128  0          ['conv3_block3_2_bn[0][0]']      \n",
      " n)                             )                                                                 \n",
      "                                                                                                  \n",
      " conv3_block3_3_conv (Conv2D)   (None, 96, 259, 512  66048       ['conv3_block3_2_relu[0][0]']    \n",
      "                                )                                                                 \n",
      "                                                                                                  \n",
      " conv3_block3_3_bn (BatchNormal  (None, 96, 259, 512  2048       ['conv3_block3_3_conv[0][0]']    \n",
      " ization)                       )                                                                 \n",
      "                                                                                                  \n",
      " conv3_block3_add (Add)         (None, 96, 259, 512  0           ['conv3_block2_out[0][0]',       \n",
      "                                )                                 'conv3_block3_3_bn[0][0]']      \n",
      "                                                                                                  \n",
      " conv3_block3_out (Activation)  (None, 96, 259, 512  0           ['conv3_block3_add[0][0]']       \n",
      "                                )                                                                 \n",
      "                                                                                                  \n",
      " conv3_block4_1_conv (Conv2D)   (None, 96, 259, 128  65664       ['conv3_block3_out[0][0]']       \n",
      "                                )                                                                 \n",
      "                                                                                                  \n",
      " conv3_block4_1_bn (BatchNormal  (None, 96, 259, 128  512        ['conv3_block4_1_conv[0][0]']    \n",
      " ization)                       )                                                                 \n",
      "                                                                                                  \n",
      " conv3_block4_1_relu (Activatio  (None, 96, 259, 128  0          ['conv3_block4_1_bn[0][0]']      \n",
      " n)                             )                                                                 \n",
      "                                                                                                  \n",
      " conv3_block4_2_conv (Conv2D)   (None, 96, 259, 128  147584      ['conv3_block4_1_relu[0][0]']    \n",
      "                                )                                                                 \n",
      "                                                                                                  \n",
      " conv3_block4_2_bn (BatchNormal  (None, 96, 259, 128  512        ['conv3_block4_2_conv[0][0]']    \n",
      " ization)                       )                                                                 \n",
      "                                                                                                  \n",
      " conv3_block4_2_relu (Activatio  (None, 96, 259, 128  0          ['conv3_block4_2_bn[0][0]']      \n",
      " n)                             )                                                                 \n",
      "                                                                                                  \n",
      " conv3_block4_3_conv (Conv2D)   (None, 96, 259, 512  66048       ['conv3_block4_2_relu[0][0]']    \n",
      "                                )                                                                 \n",
      "                                                                                                  \n",
      " conv3_block4_3_bn (BatchNormal  (None, 96, 259, 512  2048       ['conv3_block4_3_conv[0][0]']    \n",
      " ization)                       )                                                                 \n",
      "                                                                                                  \n",
      " conv3_block4_add (Add)         (None, 96, 259, 512  0           ['conv3_block3_out[0][0]',       \n",
      "                                )                                 'conv3_block4_3_bn[0][0]']      \n",
      "                                                                                                  \n",
      " conv3_block4_out (Activation)  (None, 96, 259, 512  0           ['conv3_block4_add[0][0]']       \n",
      "                                )                                                                 \n",
      "                                                                                                  \n",
      " conv4_block1_1_conv (Conv2D)   (None, 48, 130, 256  131328      ['conv3_block4_out[0][0]']       \n",
      "                                )                                                                 \n",
      "                                                                                                  \n",
      " conv4_block1_1_bn (BatchNormal  (None, 48, 130, 256  1024       ['conv4_block1_1_conv[0][0]']    \n",
      " ization)                       )                                                                 \n",
      "                                                                                                  \n",
      " conv4_block1_1_relu (Activatio  (None, 48, 130, 256  0          ['conv4_block1_1_bn[0][0]']      \n",
      " n)                             )                                                                 \n",
      "                                                                                                  \n",
      " conv4_block1_2_conv (Conv2D)   (None, 48, 130, 256  590080      ['conv4_block1_1_relu[0][0]']    \n",
      "                                )                                                                 \n",
      "                                                                                                  \n",
      " conv4_block1_2_bn (BatchNormal  (None, 48, 130, 256  1024       ['conv4_block1_2_conv[0][0]']    \n",
      " ization)                       )                                                                 \n",
      "                                                                                                  \n",
      " conv4_block1_2_relu (Activatio  (None, 48, 130, 256  0          ['conv4_block1_2_bn[0][0]']      \n",
      " n)                             )                                                                 \n",
      "                                                                                                  \n",
      " conv4_block1_0_conv (Conv2D)   (None, 48, 130, 102  525312      ['conv3_block4_out[0][0]']       \n",
      "                                4)                                                                \n",
      "                                                                                                  \n",
      " conv4_block1_3_conv (Conv2D)   (None, 48, 130, 102  263168      ['conv4_block1_2_relu[0][0]']    \n",
      "                                4)                                                                \n",
      "                                                                                                  \n",
      " conv4_block1_0_bn (BatchNormal  (None, 48, 130, 102  4096       ['conv4_block1_0_conv[0][0]']    \n",
      " ization)                       4)                                                                \n",
      "                                                                                                  \n",
      " conv4_block1_3_bn (BatchNormal  (None, 48, 130, 102  4096       ['conv4_block1_3_conv[0][0]']    \n",
      " ization)                       4)                                                                \n",
      "                                                                                                  \n",
      " conv4_block1_add (Add)         (None, 48, 130, 102  0           ['conv4_block1_0_bn[0][0]',      \n",
      "                                4)                                'conv4_block1_3_bn[0][0]']      \n",
      "                                                                                                  \n",
      " conv4_block1_out (Activation)  (None, 48, 130, 102  0           ['conv4_block1_add[0][0]']       \n",
      "                                4)                                                                \n",
      "                                                                                                  \n",
      " conv4_block2_1_conv (Conv2D)   (None, 48, 130, 256  262400      ['conv4_block1_out[0][0]']       \n",
      "                                )                                                                 \n",
      "                                                                                                  \n",
      " conv4_block2_1_bn (BatchNormal  (None, 48, 130, 256  1024       ['conv4_block2_1_conv[0][0]']    \n",
      " ization)                       )                                                                 \n",
      "                                                                                                  \n",
      " conv4_block2_1_relu (Activatio  (None, 48, 130, 256  0          ['conv4_block2_1_bn[0][0]']      \n",
      " n)                             )                                                                 \n",
      "                                                                                                  \n",
      " conv4_block2_2_conv (Conv2D)   (None, 48, 130, 256  590080      ['conv4_block2_1_relu[0][0]']    \n",
      "                                )                                                                 \n",
      "                                                                                                  \n",
      " conv4_block2_2_bn (BatchNormal  (None, 48, 130, 256  1024       ['conv4_block2_2_conv[0][0]']    \n",
      " ization)                       )                                                                 \n",
      "                                                                                                  \n",
      " conv4_block2_2_relu (Activatio  (None, 48, 130, 256  0          ['conv4_block2_2_bn[0][0]']      \n",
      " n)                             )                                                                 \n",
      "                                                                                                  \n",
      " conv4_block2_3_conv (Conv2D)   (None, 48, 130, 102  263168      ['conv4_block2_2_relu[0][0]']    \n",
      "                                4)                                                                \n",
      "                                                                                                  \n",
      " conv4_block2_3_bn (BatchNormal  (None, 48, 130, 102  4096       ['conv4_block2_3_conv[0][0]']    \n",
      " ization)                       4)                                                                \n",
      "                                                                                                  \n",
      " conv4_block2_add (Add)         (None, 48, 130, 102  0           ['conv4_block1_out[0][0]',       \n",
      "                                4)                                'conv4_block2_3_bn[0][0]']      \n",
      "                                                                                                  \n",
      " conv4_block2_out (Activation)  (None, 48, 130, 102  0           ['conv4_block2_add[0][0]']       \n",
      "                                4)                                                                \n",
      "                                                                                                  \n",
      " conv4_block3_1_conv (Conv2D)   (None, 48, 130, 256  262400      ['conv4_block2_out[0][0]']       \n",
      "                                )                                                                 \n",
      "                                                                                                  \n",
      " conv4_block3_1_bn (BatchNormal  (None, 48, 130, 256  1024       ['conv4_block3_1_conv[0][0]']    \n",
      " ization)                       )                                                                 \n",
      "                                                                                                  \n",
      " conv4_block3_1_relu (Activatio  (None, 48, 130, 256  0          ['conv4_block3_1_bn[0][0]']      \n",
      " n)                             )                                                                 \n",
      "                                                                                                  \n",
      " conv4_block3_2_conv (Conv2D)   (None, 48, 130, 256  590080      ['conv4_block3_1_relu[0][0]']    \n",
      "                                )                                                                 \n",
      "                                                                                                  \n",
      " conv4_block3_2_bn (BatchNormal  (None, 48, 130, 256  1024       ['conv4_block3_2_conv[0][0]']    \n",
      " ization)                       )                                                                 \n",
      "                                                                                                  \n",
      " conv4_block3_2_relu (Activatio  (None, 48, 130, 256  0          ['conv4_block3_2_bn[0][0]']      \n",
      " n)                             )                                                                 \n",
      "                                                                                                  \n",
      " conv4_block3_3_conv (Conv2D)   (None, 48, 130, 102  263168      ['conv4_block3_2_relu[0][0]']    \n",
      "                                4)                                                                \n",
      "                                                                                                  \n",
      " conv4_block3_3_bn (BatchNormal  (None, 48, 130, 102  4096       ['conv4_block3_3_conv[0][0]']    \n",
      " ization)                       4)                                                                \n",
      "                                                                                                  \n",
      " conv4_block3_add (Add)         (None, 48, 130, 102  0           ['conv4_block2_out[0][0]',       \n",
      "                                4)                                'conv4_block3_3_bn[0][0]']      \n",
      "                                                                                                  \n",
      " conv4_block3_out (Activation)  (None, 48, 130, 102  0           ['conv4_block3_add[0][0]']       \n",
      "                                4)                                                                \n",
      "                                                                                                  \n",
      " conv4_block4_1_conv (Conv2D)   (None, 48, 130, 256  262400      ['conv4_block3_out[0][0]']       \n",
      "                                )                                                                 \n",
      "                                                                                                  \n",
      " conv4_block4_1_bn (BatchNormal  (None, 48, 130, 256  1024       ['conv4_block4_1_conv[0][0]']    \n",
      " ization)                       )                                                                 \n",
      "                                                                                                  \n",
      " conv4_block4_1_relu (Activatio  (None, 48, 130, 256  0          ['conv4_block4_1_bn[0][0]']      \n",
      " n)                             )                                                                 \n",
      "                                                                                                  \n",
      " conv4_block4_2_conv (Conv2D)   (None, 48, 130, 256  590080      ['conv4_block4_1_relu[0][0]']    \n",
      "                                )                                                                 \n",
      "                                                                                                  \n",
      " conv4_block4_2_bn (BatchNormal  (None, 48, 130, 256  1024       ['conv4_block4_2_conv[0][0]']    \n",
      " ization)                       )                                                                 \n",
      "                                                                                                  \n",
      " conv4_block4_2_relu (Activatio  (None, 48, 130, 256  0          ['conv4_block4_2_bn[0][0]']      \n",
      " n)                             )                                                                 \n",
      "                                                                                                  \n",
      " conv4_block4_3_conv (Conv2D)   (None, 48, 130, 102  263168      ['conv4_block4_2_relu[0][0]']    \n",
      "                                4)                                                                \n",
      "                                                                                                  \n",
      " conv4_block4_3_bn (BatchNormal  (None, 48, 130, 102  4096       ['conv4_block4_3_conv[0][0]']    \n",
      " ization)                       4)                                                                \n",
      "                                                                                                  \n",
      " conv4_block4_add (Add)         (None, 48, 130, 102  0           ['conv4_block3_out[0][0]',       \n",
      "                                4)                                'conv4_block4_3_bn[0][0]']      \n",
      "                                                                                                  \n",
      " conv4_block4_out (Activation)  (None, 48, 130, 102  0           ['conv4_block4_add[0][0]']       \n",
      "                                4)                                                                \n",
      "                                                                                                  \n",
      " conv4_block5_1_conv (Conv2D)   (None, 48, 130, 256  262400      ['conv4_block4_out[0][0]']       \n",
      "                                )                                                                 \n",
      "                                                                                                  \n",
      " conv4_block5_1_bn (BatchNormal  (None, 48, 130, 256  1024       ['conv4_block5_1_conv[0][0]']    \n",
      " ization)                       )                                                                 \n",
      "                                                                                                  \n",
      " conv4_block5_1_relu (Activatio  (None, 48, 130, 256  0          ['conv4_block5_1_bn[0][0]']      \n",
      " n)                             )                                                                 \n",
      "                                                                                                  \n",
      " conv4_block5_2_conv (Conv2D)   (None, 48, 130, 256  590080      ['conv4_block5_1_relu[0][0]']    \n",
      "                                )                                                                 \n",
      "                                                                                                  \n",
      " conv4_block5_2_bn (BatchNormal  (None, 48, 130, 256  1024       ['conv4_block5_2_conv[0][0]']    \n",
      " ization)                       )                                                                 \n",
      "                                                                                                  \n",
      " conv4_block5_2_relu (Activatio  (None, 48, 130, 256  0          ['conv4_block5_2_bn[0][0]']      \n",
      " n)                             )                                                                 \n",
      "                                                                                                  \n",
      " conv4_block5_3_conv (Conv2D)   (None, 48, 130, 102  263168      ['conv4_block5_2_relu[0][0]']    \n",
      "                                4)                                                                \n",
      "                                                                                                  \n",
      " conv4_block5_3_bn (BatchNormal  (None, 48, 130, 102  4096       ['conv4_block5_3_conv[0][0]']    \n",
      " ization)                       4)                                                                \n",
      "                                                                                                  \n",
      " conv4_block5_add (Add)         (None, 48, 130, 102  0           ['conv4_block4_out[0][0]',       \n",
      "                                4)                                'conv4_block5_3_bn[0][0]']      \n",
      "                                                                                                  \n",
      " conv4_block5_out (Activation)  (None, 48, 130, 102  0           ['conv4_block5_add[0][0]']       \n",
      "                                4)                                                                \n",
      "                                                                                                  \n",
      " conv4_block6_1_conv (Conv2D)   (None, 48, 130, 256  262400      ['conv4_block5_out[0][0]']       \n",
      "                                )                                                                 \n",
      "                                                                                                  \n",
      " conv4_block6_1_bn (BatchNormal  (None, 48, 130, 256  1024       ['conv4_block6_1_conv[0][0]']    \n",
      " ization)                       )                                                                 \n",
      "                                                                                                  \n",
      " conv4_block6_1_relu (Activatio  (None, 48, 130, 256  0          ['conv4_block6_1_bn[0][0]']      \n",
      " n)                             )                                                                 \n",
      "                                                                                                  \n",
      " conv4_block6_2_conv (Conv2D)   (None, 48, 130, 256  590080      ['conv4_block6_1_relu[0][0]']    \n",
      "                                )                                                                 \n",
      "                                                                                                  \n",
      " conv4_block6_2_bn (BatchNormal  (None, 48, 130, 256  1024       ['conv4_block6_2_conv[0][0]']    \n",
      " ization)                       )                                                                 \n",
      "                                                                                                  \n",
      " conv4_block6_2_relu (Activatio  (None, 48, 130, 256  0          ['conv4_block6_2_bn[0][0]']      \n",
      " n)                             )                                                                 \n",
      "                                                                                                  \n",
      " conv4_block6_3_conv (Conv2D)   (None, 48, 130, 102  263168      ['conv4_block6_2_relu[0][0]']    \n",
      "                                4)                                                                \n",
      "                                                                                                  \n",
      " conv4_block6_3_bn (BatchNormal  (None, 48, 130, 102  4096       ['conv4_block6_3_conv[0][0]']    \n",
      " ization)                       4)                                                                \n",
      "                                                                                                  \n",
      " conv4_block6_add (Add)         (None, 48, 130, 102  0           ['conv4_block5_out[0][0]',       \n",
      "                                4)                                'conv4_block6_3_bn[0][0]']      \n",
      "                                                                                                  \n",
      " conv4_block6_out (Activation)  (None, 48, 130, 102  0           ['conv4_block6_add[0][0]']       \n",
      "                                4)                                                                \n",
      "                                                                                                  \n",
      " conv5_block1_1_conv (Conv2D)   (None, 24, 65, 512)  524800      ['conv4_block6_out[0][0]']       \n",
      "                                                                                                  \n",
      " conv5_block1_1_bn (BatchNormal  (None, 24, 65, 512)  2048       ['conv5_block1_1_conv[0][0]']    \n",
      " ization)                                                                                         \n",
      "                                                                                                  \n",
      " conv5_block1_1_relu (Activatio  (None, 24, 65, 512)  0          ['conv5_block1_1_bn[0][0]']      \n",
      " n)                                                                                               \n",
      "                                                                                                  \n",
      " conv5_block1_2_conv (Conv2D)   (None, 24, 65, 512)  2359808     ['conv5_block1_1_relu[0][0]']    \n",
      "                                                                                                  \n",
      " conv5_block1_2_bn (BatchNormal  (None, 24, 65, 512)  2048       ['conv5_block1_2_conv[0][0]']    \n",
      " ization)                                                                                         \n",
      "                                                                                                  \n",
      " conv5_block1_2_relu (Activatio  (None, 24, 65, 512)  0          ['conv5_block1_2_bn[0][0]']      \n",
      " n)                                                                                               \n",
      "                                                                                                  \n",
      " conv5_block1_0_conv (Conv2D)   (None, 24, 65, 2048  2099200     ['conv4_block6_out[0][0]']       \n",
      "                                )                                                                 \n",
      "                                                                                                  \n",
      " conv5_block1_3_conv (Conv2D)   (None, 24, 65, 2048  1050624     ['conv5_block1_2_relu[0][0]']    \n",
      "                                )                                                                 \n",
      "                                                                                                  \n",
      " conv5_block1_0_bn (BatchNormal  (None, 24, 65, 2048  8192       ['conv5_block1_0_conv[0][0]']    \n",
      " ization)                       )                                                                 \n",
      "                                                                                                  \n",
      " conv5_block1_3_bn (BatchNormal  (None, 24, 65, 2048  8192       ['conv5_block1_3_conv[0][0]']    \n",
      " ization)                       )                                                                 \n",
      "                                                                                                  \n",
      " conv5_block1_add (Add)         (None, 24, 65, 2048  0           ['conv5_block1_0_bn[0][0]',      \n",
      "                                )                                 'conv5_block1_3_bn[0][0]']      \n",
      "                                                                                                  \n",
      " conv5_block1_out (Activation)  (None, 24, 65, 2048  0           ['conv5_block1_add[0][0]']       \n",
      "                                )                                                                 \n",
      "                                                                                                  \n",
      " conv5_block2_1_conv (Conv2D)   (None, 24, 65, 512)  1049088     ['conv5_block1_out[0][0]']       \n",
      "                                                                                                  \n",
      " conv5_block2_1_bn (BatchNormal  (None, 24, 65, 512)  2048       ['conv5_block2_1_conv[0][0]']    \n",
      " ization)                                                                                         \n",
      "                                                                                                  \n",
      " conv5_block2_1_relu (Activatio  (None, 24, 65, 512)  0          ['conv5_block2_1_bn[0][0]']      \n",
      " n)                                                                                               \n",
      "                                                                                                  \n",
      " conv5_block2_2_conv (Conv2D)   (None, 24, 65, 512)  2359808     ['conv5_block2_1_relu[0][0]']    \n",
      "                                                                                                  \n",
      " conv5_block2_2_bn (BatchNormal  (None, 24, 65, 512)  2048       ['conv5_block2_2_conv[0][0]']    \n",
      " ization)                                                                                         \n",
      "                                                                                                  \n",
      " conv5_block2_2_relu (Activatio  (None, 24, 65, 512)  0          ['conv5_block2_2_bn[0][0]']      \n",
      " n)                                                                                               \n",
      "                                                                                                  \n",
      " conv5_block2_3_conv (Conv2D)   (None, 24, 65, 2048  1050624     ['conv5_block2_2_relu[0][0]']    \n",
      "                                )                                                                 \n",
      "                                                                                                  \n",
      " conv5_block2_3_bn (BatchNormal  (None, 24, 65, 2048  8192       ['conv5_block2_3_conv[0][0]']    \n",
      " ization)                       )                                                                 \n",
      "                                                                                                  \n",
      " conv5_block2_add (Add)         (None, 24, 65, 2048  0           ['conv5_block1_out[0][0]',       \n",
      "                                )                                 'conv5_block2_3_bn[0][0]']      \n",
      "                                                                                                  \n",
      " conv5_block2_out (Activation)  (None, 24, 65, 2048  0           ['conv5_block2_add[0][0]']       \n",
      "                                )                                                                 \n",
      "                                                                                                  \n",
      " conv5_block3_1_conv (Conv2D)   (None, 24, 65, 512)  1049088     ['conv5_block2_out[0][0]']       \n",
      "                                                                                                  \n",
      " conv5_block3_1_bn (BatchNormal  (None, 24, 65, 512)  2048       ['conv5_block3_1_conv[0][0]']    \n",
      " ization)                                                                                         \n",
      "                                                                                                  \n",
      " conv5_block3_1_relu (Activatio  (None, 24, 65, 512)  0          ['conv5_block3_1_bn[0][0]']      \n",
      " n)                                                                                               \n",
      "                                                                                                  \n",
      " conv5_block3_2_conv (Conv2D)   (None, 24, 65, 512)  2359808     ['conv5_block3_1_relu[0][0]']    \n",
      "                                                                                                  \n",
      " conv5_block3_2_bn (BatchNormal  (None, 24, 65, 512)  2048       ['conv5_block3_2_conv[0][0]']    \n",
      " ization)                                                                                         \n",
      "                                                                                                  \n",
      " conv5_block3_2_relu (Activatio  (None, 24, 65, 512)  0          ['conv5_block3_2_bn[0][0]']      \n",
      " n)                                                                                               \n",
      "                                                                                                  \n",
      " conv5_block3_3_conv (Conv2D)   (None, 24, 65, 2048  1050624     ['conv5_block3_2_relu[0][0]']    \n",
      "                                )                                                                 \n",
      "                                                                                                  \n",
      " conv5_block3_3_bn (BatchNormal  (None, 24, 65, 2048  8192       ['conv5_block3_3_conv[0][0]']    \n",
      " ization)                       )                                                                 \n",
      "                                                                                                  \n",
      " conv5_block3_add (Add)         (None, 24, 65, 2048  0           ['conv5_block2_out[0][0]',       \n",
      "                                )                                 'conv5_block3_3_bn[0][0]']      \n",
      "                                                                                                  \n",
      " conv5_block3_out (Activation)  (None, 24, 65, 2048  0           ['conv5_block3_add[0][0]']       \n",
      "                                )                                                                 \n",
      "                                                                                                  \n",
      " conv2d_22 (Conv2D)             (None, 10, 31, 10)   512010      ['conv5_block3_out[0][0]']       \n",
      "                                                                                                  \n",
      " max_pooling2d_22 (MaxPooling2D  (None, 5, 15, 10)   0           ['conv2d_22[0][0]']              \n",
      " )                                                                                                \n",
      "                                                                                                  \n",
      " conv2d_23 (Conv2D)             (None, 3, 13, 20)    1820        ['max_pooling2d_22[0][0]']       \n",
      "                                                                                                  \n",
      " max_pooling2d_23 (MaxPooling2D  (None, 1, 6, 20)    0           ['conv2d_23[0][0]']              \n",
      " )                                                                                                \n",
      "                                                                                                  \n",
      " flatten_11 (Flatten)           (None, 120)          0           ['max_pooling2d_23[0][0]']       \n",
      "                                                                                                  \n",
      " dense_11 (Dense)               (None, 5)            605         ['flatten_11[0][0]']             \n",
      "                                                                                                  \n",
      "==================================================================================================\n",
      "Total params: 24,102,147\n",
      "Trainable params: 514,435\n",
      "Non-trainable params: 23,587,712\n",
      "__________________________________________________________________________________________________\n"
     ]
    }
   ],
   "source": [
    "model.summary()"
   ]
  },
  {
   "cell_type": "code",
   "execution_count": null,
   "metadata": {},
   "outputs": [],
   "source": [
    "es=EarlyStopping(monitor='val_accuracy', mode='max', verbose=1, patience=20)\n"
   ]
  },
  {
   "cell_type": "code",
   "execution_count": null,
   "metadata": {},
   "outputs": [],
   "source": [
    "mc = ModelCheckpoint('best_model_resnet.h5', monitor='val_accuracy'\n",
    "                    ,mode='max',save_best_only=True)\n"
   ]
  },
  {
   "cell_type": "code",
   "execution_count": null,
   "metadata": {},
   "outputs": [],
   "source": [
    "metrics = Metrics(val_data = valid_generator)"
   ]
  },
  {
   "cell_type": "code",
   "execution_count": null,
   "metadata": {},
   "outputs": [],
   "source": [
    "model.compile(optimizer='Adam', loss = 'binary_crossentropy', metrics='accuracy')"
   ]
  },
  {
   "cell_type": "code",
   "execution_count": null,
   "metadata": {},
   "outputs": [
    {
     "name": "stdout",
     "output_type": "stream",
     "text": [
      "<keras_preprocessing.image.dataframe_iterator.DataFrameIterator object at 0x299697c10>\n",
      "Epoch 1/100\n"
     ]
    },
    {
     "name": "stderr",
     "output_type": "stream",
     "text": [
      "2022-05-12 17:48:01.498164: I tensorflow/core/grappler/optimizers/custom_graph_optimizer_registry.cc:113] Plugin optimizer for device_type GPU is enabled.\n"
     ]
    },
    {
     "name": "stdout",
     "output_type": "stream",
     "text": [
      "1070/1070 [==============================] - ETA: 0s - loss: 0.3779 - accuracy: 0.6361"
     ]
    },
    {
     "name": "stderr",
     "output_type": "stream",
     "text": [
      "2022-05-12 19:26:01.523272: I tensorflow/core/grappler/optimizers/custom_graph_optimizer_registry.cc:113] Plugin optimizer for device_type GPU is enabled.\n",
      "  0%|          | 0/135 [00:00<?, ?it/s]2022-05-12 19:38:10.549989: I tensorflow/core/grappler/optimizers/custom_graph_optimizer_registry.cc:113] Plugin optimizer for device_type GPU is enabled.\n",
      "100%|██████████| 135/135 [14:17<00:00,  6.36s/it]"
     ]
    },
    {
     "name": "stdout",
     "output_type": "stream",
     "text": [
      "   F_beta_macro  G_beta_macro  macro_auc\n",
      "0      0.588985      0.391235   0.862119\n",
      "1070/1070 [==============================] - 7468s 7s/step - loss: 0.3779 - accuracy: 0.6361 - val_loss: 0.3959 - val_accuracy: 0.6113\n",
      "Epoch 2/100\n"
     ]
    },
    {
     "name": "stderr",
     "output_type": "stream",
     "text": [
      "\n"
     ]
    },
    {
     "name": "stdout",
     "output_type": "stream",
     "text": [
      "1070/1070 [==============================] - ETA: 0s - loss: 0.3528 - accuracy: 0.6536"
     ]
    },
    {
     "name": "stderr",
     "output_type": "stream",
     "text": [
      "100%|██████████| 135/135 [14:04<00:00,  6.25s/it]"
     ]
    },
    {
     "name": "stdout",
     "output_type": "stream",
     "text": [
      "   F_beta_macro  G_beta_macro  macro_auc\n",
      "0      0.597362      0.401652   0.855442\n",
      "1070/1070 [==============================] - 7906s 7s/step - loss: 0.3528 - accuracy: 0.6536 - val_loss: 0.3828 - val_accuracy: 0.6401\n",
      "Epoch 3/100\n"
     ]
    },
    {
     "name": "stderr",
     "output_type": "stream",
     "text": [
      "\n"
     ]
    },
    {
     "name": "stdout",
     "output_type": "stream",
     "text": [
      "1070/1070 [==============================] - ETA: 0s - loss: 0.3387 - accuracy: 0.6619"
     ]
    },
    {
     "name": "stderr",
     "output_type": "stream",
     "text": [
      "100%|██████████| 135/135 [14:00<00:00,  6.23s/it]"
     ]
    },
    {
     "name": "stdout",
     "output_type": "stream",
     "text": [
      "   F_beta_macro  G_beta_macro  macro_auc\n",
      "0      0.554134       0.37489   0.860647\n",
      "1070/1070 [==============================] - 7708s 7s/step - loss: 0.3387 - accuracy: 0.6619 - val_loss: 0.3799 - val_accuracy: 0.6424\n",
      "Epoch 4/100\n"
     ]
    },
    {
     "name": "stderr",
     "output_type": "stream",
     "text": [
      "\n"
     ]
    },
    {
     "name": "stdout",
     "output_type": "stream",
     "text": [
      "1070/1070 [==============================] - ETA: 0s - loss: 0.3219 - accuracy: 0.6709"
     ]
    },
    {
     "name": "stderr",
     "output_type": "stream",
     "text": [
      "100%|██████████| 135/135 [14:01<00:00,  6.23s/it]"
     ]
    },
    {
     "name": "stdout",
     "output_type": "stream",
     "text": [
      "   F_beta_macro  G_beta_macro  macro_auc\n",
      "0      0.614527      0.409278   0.872142\n",
      "1070/1070 [==============================] - 7482s 7s/step - loss: 0.3219 - accuracy: 0.6709 - val_loss: 0.3860 - val_accuracy: 0.6211\n",
      "Epoch 5/100\n"
     ]
    },
    {
     "name": "stderr",
     "output_type": "stream",
     "text": [
      "\n"
     ]
    },
    {
     "name": "stdout",
     "output_type": "stream",
     "text": [
      "1070/1070 [==============================] - ETA: 0s - loss: 0.3159 - accuracy: 0.6780"
     ]
    },
    {
     "name": "stderr",
     "output_type": "stream",
     "text": [
      "100%|██████████| 135/135 [14:02<00:00,  6.24s/it]"
     ]
    },
    {
     "name": "stdout",
     "output_type": "stream",
     "text": [
      "   F_beta_macro  G_beta_macro  macro_auc\n",
      "0      0.593944      0.400482    0.86279\n",
      "1070/1070 [==============================] - 7721s 7s/step - loss: 0.3159 - accuracy: 0.6780 - val_loss: 0.3869 - val_accuracy: 0.6433\n",
      "Epoch 6/100\n"
     ]
    },
    {
     "name": "stderr",
     "output_type": "stream",
     "text": [
      "\n"
     ]
    },
    {
     "name": "stdout",
     "output_type": "stream",
     "text": [
      "1070/1070 [==============================] - ETA: 0s - loss: 0.3076 - accuracy: 0.6883"
     ]
    },
    {
     "name": "stderr",
     "output_type": "stream",
     "text": [
      "100%|██████████| 135/135 [14:03<00:00,  6.25s/it]"
     ]
    },
    {
     "name": "stdout",
     "output_type": "stream",
     "text": [
      "   F_beta_macro  G_beta_macro  macro_auc\n",
      "0      0.568221      0.390836   0.869979\n",
      "1070/1070 [==============================] - 7701s 7s/step - loss: 0.3076 - accuracy: 0.6883 - val_loss: 0.3885 - val_accuracy: 0.6466\n",
      "Epoch 7/100\n"
     ]
    },
    {
     "name": "stderr",
     "output_type": "stream",
     "text": [
      "\n"
     ]
    },
    {
     "name": "stdout",
     "output_type": "stream",
     "text": [
      "1070/1070 [==============================] - ETA: 0s - loss: 0.2945 - accuracy: 0.6963"
     ]
    },
    {
     "name": "stderr",
     "output_type": "stream",
     "text": [
      "100%|██████████| 135/135 [13:59<00:00,  6.22s/it]"
     ]
    },
    {
     "name": "stdout",
     "output_type": "stream",
     "text": [
      "   F_beta_macro  G_beta_macro  macro_auc\n",
      "0      0.600025      0.407089    0.87198\n",
      "1070/1070 [==============================] - 7704s 7s/step - loss: 0.2945 - accuracy: 0.6963 - val_loss: 0.3783 - val_accuracy: 0.6396\n",
      "Epoch 8/100\n"
     ]
    },
    {
     "name": "stderr",
     "output_type": "stream",
     "text": [
      "\n"
     ]
    },
    {
     "name": "stdout",
     "output_type": "stream",
     "text": [
      "1070/1070 [==============================] - ETA: 0s - loss: 0.2871 - accuracy: 0.7015"
     ]
    },
    {
     "name": "stderr",
     "output_type": "stream",
     "text": [
      "100%|██████████| 135/135 [13:59<00:00,  6.22s/it]"
     ]
    },
    {
     "name": "stdout",
     "output_type": "stream",
     "text": [
      "   F_beta_macro  G_beta_macro  macro_auc\n",
      "0      0.585821      0.405623   0.871625\n",
      "1070/1070 [==============================] - 7422s 7s/step - loss: 0.2871 - accuracy: 0.7015 - val_loss: 0.3773 - val_accuracy: 0.6429\n",
      "Epoch 9/100\n"
     ]
    },
    {
     "name": "stderr",
     "output_type": "stream",
     "text": [
      "\n"
     ]
    },
    {
     "name": "stdout",
     "output_type": "stream",
     "text": [
      "1070/1070 [==============================] - ETA: 0s - loss: 0.2762 - accuracy: 0.7090"
     ]
    },
    {
     "name": "stderr",
     "output_type": "stream",
     "text": [
      "100%|██████████| 135/135 [15:08<00:00,  6.73s/it]"
     ]
    },
    {
     "name": "stdout",
     "output_type": "stream",
     "text": [
      "   F_beta_macro  G_beta_macro  macro_auc\n",
      "0      0.623485      0.416728   0.869136\n",
      "1070/1070 [==============================] - 7964s 7s/step - loss: 0.2762 - accuracy: 0.7090 - val_loss: 0.3927 - val_accuracy: 0.6313\n",
      "Epoch 10/100\n"
     ]
    },
    {
     "name": "stderr",
     "output_type": "stream",
     "text": [
      "\n"
     ]
    },
    {
     "name": "stdout",
     "output_type": "stream",
     "text": [
      "1070/1070 [==============================] - ETA: 0s - loss: 0.2672 - accuracy: 0.7200"
     ]
    },
    {
     "name": "stderr",
     "output_type": "stream",
     "text": [
      "100%|██████████| 135/135 [14:39<00:00,  6.51s/it]"
     ]
    },
    {
     "name": "stdout",
     "output_type": "stream",
     "text": [
      "   F_beta_macro  G_beta_macro  macro_auc\n",
      "0      0.606406      0.420824   0.873988\n",
      "1070/1070 [==============================] - 8158s 8s/step - loss: 0.2672 - accuracy: 0.7200 - val_loss: 0.3911 - val_accuracy: 0.6378\n",
      "Epoch 11/100\n"
     ]
    },
    {
     "name": "stderr",
     "output_type": "stream",
     "text": [
      "\n"
     ]
    },
    {
     "name": "stdout",
     "output_type": "stream",
     "text": [
      "1070/1070 [==============================] - ETA: 0s - loss: 0.2612 - accuracy: 0.7256"
     ]
    },
    {
     "name": "stderr",
     "output_type": "stream",
     "text": [
      "100%|██████████| 135/135 [17:55<00:00,  7.97s/it]"
     ]
    },
    {
     "name": "stdout",
     "output_type": "stream",
     "text": [
      "   F_beta_macro  G_beta_macro  macro_auc\n",
      "0      0.583795      0.378689   0.852979\n",
      "1070/1070 [==============================] - 8358s 8s/step - loss: 0.2612 - accuracy: 0.7256 - val_loss: 0.4406 - val_accuracy: 0.6099\n",
      "Epoch 12/100\n"
     ]
    },
    {
     "name": "stderr",
     "output_type": "stream",
     "text": [
      "\n"
     ]
    },
    {
     "name": "stdout",
     "output_type": "stream",
     "text": [
      "1070/1070 [==============================] - ETA: 0s - loss: 0.2499 - accuracy: 0.7350"
     ]
    },
    {
     "name": "stderr",
     "output_type": "stream",
     "text": [
      "100%|██████████| 135/135 [13:53<00:00,  6.17s/it]"
     ]
    },
    {
     "name": "stdout",
     "output_type": "stream",
     "text": [
      "   F_beta_macro  G_beta_macro  macro_auc\n",
      "0        0.5743       0.38462   0.864429\n",
      "1070/1070 [==============================] - 7317s 7s/step - loss: 0.2499 - accuracy: 0.7350 - val_loss: 0.4316 - val_accuracy: 0.6540\n",
      "Epoch 13/100\n"
     ]
    },
    {
     "name": "stderr",
     "output_type": "stream",
     "text": [
      "\n"
     ]
    },
    {
     "name": "stdout",
     "output_type": "stream",
     "text": [
      "1070/1070 [==============================] - ETA: 0s - loss: 0.2414 - accuracy: 0.7440"
     ]
    },
    {
     "name": "stderr",
     "output_type": "stream",
     "text": [
      "100%|██████████| 135/135 [14:20<00:00,  6.37s/it]"
     ]
    },
    {
     "name": "stdout",
     "output_type": "stream",
     "text": [
      "   F_beta_macro  G_beta_macro  macro_auc\n",
      "0      0.603546      0.401718    0.85731\n",
      "1070/1070 [==============================] - 7735s 7s/step - loss: 0.2414 - accuracy: 0.7440 - val_loss: 0.4207 - val_accuracy: 0.6192\n",
      "Epoch 14/100\n"
     ]
    },
    {
     "name": "stderr",
     "output_type": "stream",
     "text": [
      "\n"
     ]
    },
    {
     "name": "stdout",
     "output_type": "stream",
     "text": [
      "1070/1070 [==============================] - ETA: 0s - loss: 0.2343 - accuracy: 0.7492"
     ]
    },
    {
     "name": "stderr",
     "output_type": "stream",
     "text": [
      "100%|██████████| 135/135 [14:38<00:00,  6.51s/it]"
     ]
    },
    {
     "name": "stdout",
     "output_type": "stream",
     "text": [
      "   F_beta_macro  G_beta_macro  macro_auc\n",
      "0      0.563073      0.377461   0.855879\n",
      "1070/1070 [==============================] - 7967s 7s/step - loss: 0.2343 - accuracy: 0.7492 - val_loss: 0.4593 - val_accuracy: 0.6252\n",
      "Epoch 15/100\n"
     ]
    },
    {
     "name": "stderr",
     "output_type": "stream",
     "text": [
      "\n"
     ]
    },
    {
     "name": "stdout",
     "output_type": "stream",
     "text": [
      "1070/1070 [==============================] - ETA: 0s - loss: 0.2253 - accuracy: 0.7567"
     ]
    },
    {
     "name": "stderr",
     "output_type": "stream",
     "text": [
      "100%|██████████| 135/135 [14:34<00:00,  6.47s/it]"
     ]
    },
    {
     "name": "stdout",
     "output_type": "stream",
     "text": [
      "   F_beta_macro  G_beta_macro  macro_auc\n",
      "0      0.594518       0.40486   0.857342\n",
      "1070/1070 [==============================] - 8042s 8s/step - loss: 0.2253 - accuracy: 0.7567 - val_loss: 0.4481 - val_accuracy: 0.6410\n",
      "Epoch 16/100\n"
     ]
    },
    {
     "name": "stderr",
     "output_type": "stream",
     "text": [
      "\n"
     ]
    },
    {
     "name": "stdout",
     "output_type": "stream",
     "text": [
      "   7/1070 [..............................] - ETA: 7:26:01 - loss: 0.2207 - accuracy: 0.7589"
     ]
    }
   ],
   "source": [
    "H = model.fit_generator(train_generator,validation_data=valid_generator,epochs=100,verbose=1,callbacks=[mc, es, metrics])\n"
   ]
  },
  {
   "cell_type": "markdown",
   "metadata": {},
   "source": [
    "## Load and predict"
   ]
  },
  {
   "cell_type": "code",
   "execution_count": 34,
   "metadata": {},
   "outputs": [
    {
     "name": "stdout",
     "output_type": "stream",
     "text": [
      "Found 17111 validated image filenames.\n",
      "Found 2163 validated image filenames.\n",
      "Found 2156 validated image filenames.\n"
     ]
    }
   ],
   "source": [
    "size = (int(761/1), int(2066/1))\n",
    "train_generator, valid_generator,test_generator = extract_generators(train_datagen, test_datagen,\n",
    "                                        valid_datagen, size = size, color_mode='rgb' )"
   ]
  },
  {
   "cell_type": "code",
   "execution_count": 35,
   "metadata": {},
   "outputs": [
    {
     "name": "stderr",
     "output_type": "stream",
     "text": [
      "  0%|          | 0/68 [00:00<?, ?it/s]2022-05-22 21:13:58.201665: I tensorflow/core/grappler/optimizers/custom_graph_optimizer_registry.cc:113] Plugin optimizer for device_type GPU is enabled.\n",
      " 99%|█████████▊| 67/68 [14:54<00:13, 13.14s/it]2022-05-22 21:28:52.024011: I tensorflow/core/grappler/optimizers/custom_graph_optimizer_registry.cc:113] Plugin optimizer for device_type GPU is enabled.\n",
      "100%|██████████| 68/68 [14:59<00:00, 13.23s/it]"
     ]
    },
    {
     "name": "stdout",
     "output_type": "stream",
     "text": [
      "Best Threshold=0.646978, G-Mean=0.832\n",
      "Best Threshold=0.219021, G-Mean=0.768\n",
      "Best Threshold=0.241506, G-Mean=0.813\n",
      "Best Threshold=0.022916, G-Mean=0.763\n",
      "Best Threshold=0.117890, G-Mean=0.772\n"
     ]
    },
    {
     "name": "stderr",
     "output_type": "stream",
     "text": [
      "\n"
     ]
    },
    {
     "data": {
      "image/png": "[encoded data removed]",
      "text/plain": [
       "<Figure size 432x288 with 1 Axes>"
      ]
     },
     "metadata": {
      "needs_background": "light"
     },
     "output_type": "display_data"
    },
    {
     "data": {
      "text/html": [
       "<div>\n",
       "<style scoped>\n",
       "    .dataframe tbody tr th:only-of-type {\n",
       "        vertical-align: middle;\n",
       "    }\n",
       "\n",
       "    .dataframe tbody tr th {\n",
       "        vertical-align: top;\n",
       "    }\n",
       "\n",
       "    .dataframe thead th {\n",
       "        text-align: right;\n",
       "    }\n",
       "</style>\n",
       "<table border=\"1\" class=\"dataframe\">\n",
       "  <thead>\n",
       "    <tr style=\"text-align: right;\">\n",
       "      <th></th>\n",
       "      <th>F_beta_macro</th>\n",
       "      <th>G_beta_macro</th>\n",
       "      <th>macro_auc</th>\n",
       "    </tr>\n",
       "  </thead>\n",
       "  <tbody>\n",
       "    <tr>\n",
       "      <th>0</th>\n",
       "      <td>0.682809</td>\n",
       "      <td>0.391391</td>\n",
       "      <td>0.860271</td>\n",
       "    </tr>\n",
       "  </tbody>\n",
       "</table>\n",
       "</div>"
      ],
      "text/plain": [
       "   F_beta_macro  G_beta_macro  macro_auc\n",
       "0      0.682809      0.391391   0.860271"
      ]
     },
     "execution_count": 35,
     "metadata": {},
     "output_type": "execute_result"
    }
   ],
   "source": [
    "data = valid_generator\n",
    "model = load_model('best_model_resnet.h5')\n",
    "batches = len(data)\n",
    "all_true = []\n",
    "all_pred = []\n",
    "for batch in tqdm.tqdm(range(batches)):\n",
    "    xVal, yVal = next(data)\n",
    "    val_pred = model.predict(xVal)\n",
    "    val_true = yVal\n",
    "    all_true.append(val_true)\n",
    "    all_pred.append(val_pred)\n",
    "preds_array = np.concatenate(all_pred, axis = 0)\n",
    "true_array = np.concatenate(all_true, axis = 0)\n",
    "thresholds = get_thresholds(true=true_array, pred=preds_array)\n",
    "plotAUC_ROC(true_array, preds_array, superclass_cols, 'validation data RESNET')\n",
    "evaluate_experiment(true_array, preds_array, thresholds=thresholds)"
   ]
  },
  {
   "cell_type": "code",
   "execution_count": 36,
   "metadata": {},
   "outputs": [
    {
     "name": "stderr",
     "output_type": "stream",
     "text": [
      "  0%|          | 0/68 [00:00<?, ?it/s]2022-05-22 21:28:59.325606: I tensorflow/core/grappler/optimizers/custom_graph_optimizer_registry.cc:113] Plugin optimizer for device_type GPU is enabled.\n",
      " 99%|█████████▊| 67/68 [14:44<00:13, 13.18s/it]2022-05-22 21:43:43.007920: I tensorflow/core/grappler/optimizers/custom_graph_optimizer_registry.cc:113] Plugin optimizer for device_type GPU is enabled.\n",
      "100%|██████████| 68/68 [14:52<00:00, 13.13s/it]"
     ]
    },
    {
     "name": "stdout",
     "output_type": "stream",
     "text": [
      "Best Threshold=0.646978, G-Mean=0.832\n",
      "Best Threshold=0.219021, G-Mean=0.768\n",
      "Best Threshold=0.241506, G-Mean=0.813\n",
      "Best Threshold=0.022916, G-Mean=0.763\n",
      "Best Threshold=0.117890, G-Mean=0.772\n"
     ]
    },
    {
     "name": "stderr",
     "output_type": "stream",
     "text": [
      "\n"
     ]
    },
    {
     "data": {
      "image/png": "[encoded data removed]",
      "text/plain": [
       "<Figure size 432x288 with 1 Axes>"
      ]
     },
     "metadata": {
      "needs_background": "light"
     },
     "output_type": "display_data"
    },
    {
     "data": {
      "text/html": [
       "<div>\n",
       "<style scoped>\n",
       "    .dataframe tbody tr th:only-of-type {\n",
       "        vertical-align: middle;\n",
       "    }\n",
       "\n",
       "    .dataframe tbody tr th {\n",
       "        vertical-align: top;\n",
       "    }\n",
       "\n",
       "    .dataframe thead th {\n",
       "        text-align: right;\n",
       "    }\n",
       "</style>\n",
       "<table border=\"1\" class=\"dataframe\">\n",
       "  <thead>\n",
       "    <tr style=\"text-align: right;\">\n",
       "      <th></th>\n",
       "      <th>F_beta_macro</th>\n",
       "      <th>G_beta_macro</th>\n",
       "      <th>macro_auc</th>\n",
       "    </tr>\n",
       "  </thead>\n",
       "  <tbody>\n",
       "    <tr>\n",
       "      <th>0</th>\n",
       "      <td>0.682809</td>\n",
       "      <td>0.391391</td>\n",
       "      <td>0.860271</td>\n",
       "    </tr>\n",
       "  </tbody>\n",
       "</table>\n",
       "</div>"
      ],
      "text/plain": [
       "   F_beta_macro  G_beta_macro  macro_auc\n",
       "0      0.682809      0.391391   0.860271"
      ]
     },
     "execution_count": 36,
     "metadata": {},
     "output_type": "execute_result"
    }
   ],
   "source": [
    "data = test_generator\n",
    "model = load_model('best_model_resnet.h5')\n",
    "batches = len(data)\n",
    "all_true = []\n",
    "all_pred = []\n",
    "for batch in tqdm.tqdm(range(batches)):\n",
    "    xVal, yVal = next(data)\n",
    "    val_pred = model.predict(xVal)\n",
    "    val_true = yVal\n",
    "    all_true.append(val_true)\n",
    "    all_pred.append(val_pred)\n",
    "thresholds = get_thresholds(true=true_array, pred=preds_array)\n",
    "plotAUC_ROC(true_array, preds_array, superclass_cols, 'test data RESNET')\n",
    "evaluate_experiment(true_array, preds_array, thresholds=thresholds)"
   ]
  },
  {
   "cell_type": "markdown",
   "metadata": {},
   "source": [
    "# CNN + LSTM"
   ]
  },
  {
   "cell_type": "code",
   "execution_count": 109,
   "metadata": {},
   "outputs": [
    {
     "name": "stdout",
     "output_type": "stream",
     "text": [
      "Found 17111 validated image filenames.\n",
      "Found 2163 validated image filenames.\n",
      "Found 2156 validated image filenames.\n"
     ]
    }
   ],
   "source": [
    "size = (int(761/2), int(2066/2))\n",
    "train_generator, valid_generator,test_generator = extract_generators(train_datagen, test_datagen,\n",
    "                                        valid_datagen, size = size )"
   ]
  },
  {
   "cell_type": "code",
   "execution_count": 110,
   "metadata": {
    "id": "YKxU2vGLvxP2"
   },
   "outputs": [],
   "source": [
    "es=EarlyStopping(monitor='val_accuracy', mode='max', verbose=1, patience=10)\n"
   ]
  },
  {
   "cell_type": "code",
   "execution_count": 111,
   "metadata": {
    "id": "KrMaj66jvxP3"
   },
   "outputs": [],
   "source": [
    "mc = ModelCheckpoint('cnn_lstm_22thmay.h5', monitor='val_accuracy'\n",
    "                    ,mode='max',save_best_only=True)\n"
   ]
  },
  {
   "cell_type": "code",
   "execution_count": 112,
   "metadata": {
    "id": "MsK5BUyvvxP3"
   },
   "outputs": [],
   "source": [
    "metrics = Metrics(val_data = valid_generator)"
   ]
  },
  {
   "cell_type": "code",
   "execution_count": 113,
   "metadata": {
    "id": "yi0Kjzy2vxP1"
   },
   "outputs": [
    {
     "name": "stdout",
     "output_type": "stream",
     "text": [
      "WARNING:tensorflow:Layer lstm will not use cuDNN kernels since it doesn't meet the criteria. It will use a generic GPU kernel as fallback when running on GPU.\n"
     ]
    }
   ],
   "source": [
    "# define CNN model\n",
    "from keras.layers.wrappers import TimeDistributed\n",
    "cnn = Sequential()\n",
    "cnn.add(Conv2D(filters = 10, kernel_size=(5,5),  kernel_regularizer=l2(0.01), bias_regularizer=l2(0.01),strides=(1,1), input_shape = (*size,  1)))\n",
    "cnn.add(MaxPooling2D(pool_size = (2,2)))\n",
    "cnn.add(Conv2D(filters = 10, kernel_size=(3,3), strides=(1,1), kernel_regularizer=l2(0.01), bias_regularizer=l2(0.01)))\n",
    "cnn.add(MaxPooling2D(pool_size = (2,2)))\n",
    "cnn.add(Conv2D(filters = 20, kernel_size=(3,3), strides=(1,1), kernel_regularizer=l2(0.01), bias_regularizer=l2(0.01)))\n",
    "cnn.add(MaxPooling2D(pool_size = (2,2)))\n",
    "cnn.add(Conv2D(filters = 20, kernel_size=(5,5), strides=(1,1), kernel_regularizer=l2(0.01), bias_regularizer=l2(0.01)))\n",
    "cnn.add(MaxPooling2D(pool_size = (2,2)))\n",
    "cnn.add(Conv2D(filters = 20, kernel_size=(5,5), strides=(1,1), kernel_regularizer=l2(0.01), bias_regularizer=l2(0.01)))\n",
    "cnn.add(MaxPooling2D(pool_size = (2,2)))\n",
    "# cnn.add(Flatten())\n",
    "cnn.add(TimeDistributed(Flatten()))\n",
    "cnn.add(LSTM(32, activation = 'relu', kernel_regularizer=l2(0.01), bias_regularizer=l2(0.01)))\n",
    "cnn.add(Dense(5, activation='sigmoid'))"
   ]
  },
  {
   "cell_type": "code",
   "execution_count": 114,
   "metadata": {
    "id": "br1dGEU4vxP2"
   },
   "outputs": [],
   "source": [
    "cnn.compile(optimizer='Adam', loss = 'binary_crossentropy', metrics='accuracy')"
   ]
  },
  {
   "cell_type": "code",
   "execution_count": 115,
   "metadata": {},
   "outputs": [
    {
     "name": "stdout",
     "output_type": "stream",
     "text": [
      "Model: \"sequential_2\"\n",
      "_________________________________________________________________\n",
      " Layer (type)                Output Shape              Param #   \n",
      "=================================================================\n",
      " conv2d_6 (Conv2D)           (None, 376, 1029, 10)     260       \n",
      "                                                                 \n",
      " max_pooling2d_6 (MaxPooling  (None, 188, 514, 10)     0         \n",
      " 2D)                                                             \n",
      "                                                                 \n",
      " conv2d_7 (Conv2D)           (None, 186, 512, 10)      910       \n",
      "                                                                 \n",
      " max_pooling2d_7 (MaxPooling  (None, 93, 256, 10)      0         \n",
      " 2D)                                                             \n",
      "                                                                 \n",
      " conv2d_8 (Conv2D)           (None, 91, 254, 20)       1820      \n",
      "                                                                 \n",
      " max_pooling2d_8 (MaxPooling  (None, 45, 127, 20)      0         \n",
      " 2D)                                                             \n",
      "                                                                 \n",
      " conv2d_9 (Conv2D)           (None, 41, 123, 20)       10020     \n",
      "                                                                 \n",
      " max_pooling2d_9 (MaxPooling  (None, 20, 61, 20)       0         \n",
      " 2D)                                                             \n",
      "                                                                 \n",
      " conv2d_10 (Conv2D)          (None, 16, 57, 20)        10020     \n",
      "                                                                 \n",
      " max_pooling2d_10 (MaxPoolin  (None, 8, 28, 20)        0         \n",
      " g2D)                                                            \n",
      "                                                                 \n",
      " time_distributed (TimeDistr  (None, 8, 560)           0         \n",
      " ibuted)                                                         \n",
      "                                                                 \n",
      " lstm (LSTM)                 (None, 32)                75904     \n",
      "                                                                 \n",
      " dense_2 (Dense)             (None, 5)                 165       \n",
      "                                                                 \n",
      "=================================================================\n",
      "Total params: 99,099\n",
      "Trainable params: 99,099\n",
      "Non-trainable params: 0\n",
      "_________________________________________________________________\n"
     ]
    }
   ],
   "source": [
    "cnn.summary()"
   ]
  },
  {
   "cell_type": "code",
   "execution_count": null,
   "metadata": {
    "id": "U4NCplbmvxP2",
    "scrolled": true
   },
   "outputs": [
    {
     "name": "stdout",
     "output_type": "stream",
     "text": [
      "Epoch 1/100\n"
     ]
    },
    {
     "name": "stderr",
     "output_type": "stream",
     "text": [
      "2022-05-22 16:06:02.485841: I tensorflow/core/grappler/optimizers/custom_graph_optimizer_registry.cc:113] Plugin optimizer for device_type GPU is enabled.\n"
     ]
    },
    {
     "name": "stdout",
     "output_type": "stream",
     "text": [
      "535/535 [==============================] - ETA: 0s - loss: 1.0547 - accuracy: 0.4438"
     ]
    },
    {
     "name": "stderr",
     "output_type": "stream",
     "text": [
      "2022-05-22 16:13:12.887706: I tensorflow/core/grappler/optimizers/custom_graph_optimizer_registry.cc:113] Plugin optimizer for device_type GPU is enabled.\n"
     ]
    },
    {
     "name": "stdout",
     "output_type": "stream",
     "text": [
      "535/535 [==============================] - 484s 902ms/step - loss: 1.0547 - accuracy: 0.4438 - val_loss: 0.6683 - val_accuracy: 0.4439\n",
      "Epoch 2/100\n",
      "535/535 [==============================] - 491s 917ms/step - loss: 0.6117 - accuracy: 0.4446 - val_loss: 0.5758 - val_accuracy: 0.4439\n",
      "Epoch 3/100\n",
      "535/535 [==============================] - 472s 882ms/step - loss: 0.5618 - accuracy: 0.4446 - val_loss: 0.5543 - val_accuracy: 0.4439\n",
      "Epoch 4/100\n",
      "535/535 [==============================] - 493s 921ms/step - loss: 0.5530 - accuracy: 0.4446 - val_loss: 0.5545 - val_accuracy: 0.4439\n",
      "Epoch 5/100\n",
      "535/535 [==============================] - 471s 880ms/step - loss: 0.5523 - accuracy: 0.4446 - val_loss: 0.5527 - val_accuracy: 0.4439\n",
      "Epoch 6/100\n",
      "535/535 [==============================] - 470s 878ms/step - loss: 0.5506 - accuracy: 0.4446 - val_loss: 0.5496 - val_accuracy: 0.4439\n",
      "Epoch 7/100\n",
      "535/535 [==============================] - 471s 879ms/step - loss: 0.5497 - accuracy: 0.4446 - val_loss: 0.5494 - val_accuracy: 0.4439\n",
      "Epoch 8/100\n",
      "535/535 [==============================] - 473s 883ms/step - loss: 0.5485 - accuracy: 0.4446 - val_loss: 0.5483 - val_accuracy: 0.4439\n",
      "Epoch 9/100\n",
      "535/535 [==============================] - 479s 895ms/step - loss: 0.5478 - accuracy: 0.4446 - val_loss: 0.5489 - val_accuracy: 0.4439\n",
      "Epoch 10/100\n",
      "535/535 [==============================] - 475s 887ms/step - loss: 0.5471 - accuracy: 0.4446 - val_loss: 0.5474 - val_accuracy: 0.4439\n",
      "Epoch 11/100\n",
      "535/535 [==============================] - 469s 876ms/step - loss: 0.5467 - accuracy: 0.4446 - val_loss: 0.5471 - val_accuracy: 0.4439\n",
      "Epoch 11: early stopping\n"
     ]
    }
   ],
   "source": [
    "clf = cnn.fit_generator(train_generator,  validation_data=valid_generator, epochs=100, \n",
    "                  verbose = 1, callbacks=[mc, es])"
   ]
  },
  {
   "cell_type": "markdown",
   "metadata": {},
   "source": [
    "## load and predict"
   ]
  },
  {
   "cell_type": "code",
   "execution_count": 37,
   "metadata": {},
   "outputs": [
    {
     "name": "stdout",
     "output_type": "stream",
     "text": [
      "Found 17111 validated image filenames.\n",
      "Found 2163 validated image filenames.\n",
      "Found 2156 validated image filenames.\n"
     ]
    }
   ],
   "source": [
    "size = (int(761/2), int(2066/2))\n",
    "train_generator, valid_generator,test_generator = extract_generators(train_datagen, test_datagen,\n",
    "                                        valid_datagen, size = size )"
   ]
  },
  {
   "cell_type": "code",
   "execution_count": 38,
   "metadata": {},
   "outputs": [
    {
     "name": "stdout",
     "output_type": "stream",
     "text": [
      "WARNING:tensorflow:Layer lstm_19 will not use cuDNN kernels since it doesn't meet the criteria. It will use a generic GPU kernel as fallback when running on GPU.\n"
     ]
    },
    {
     "name": "stderr",
     "output_type": "stream",
     "text": [
      "  0%|          | 0/68 [00:00<?, ?it/s]2022-05-22 21:43:51.567972: I tensorflow/core/grappler/optimizers/custom_graph_optimizer_registry.cc:113] Plugin optimizer for device_type GPU is enabled.\n",
      " 99%|█████████▊| 67/68 [01:04<00:00,  1.05it/s]2022-05-22 21:44:55.380894: I tensorflow/core/grappler/optimizers/custom_graph_optimizer_registry.cc:113] Plugin optimizer for device_type GPU is enabled.\n",
      "100%|██████████| 68/68 [01:04<00:00,  1.05it/s]"
     ]
    },
    {
     "name": "stdout",
     "output_type": "stream",
     "text": [
      "Best Threshold=0.470999, G-Mean=0.461\n",
      "Best Threshold=0.247609, G-Mean=0.504\n",
      "Best Threshold=0.240742, G-Mean=0.552\n",
      "Best Threshold=0.115452, G-Mean=0.705\n",
      "Best Threshold=0.211995, G-Mean=0.584\n"
     ]
    },
    {
     "name": "stderr",
     "output_type": "stream",
     "text": [
      "\n"
     ]
    },
    {
     "data": {
      "image/png": "[encoded data removed]",
      "text/plain": [
       "<Figure size 432x288 with 1 Axes>"
      ]
     },
     "metadata": {
      "needs_background": "light"
     },
     "output_type": "display_data"
    },
    {
     "data": {
      "text/html": [
       "<div>\n",
       "<style scoped>\n",
       "    .dataframe tbody tr th:only-of-type {\n",
       "        vertical-align: middle;\n",
       "    }\n",
       "\n",
       "    .dataframe tbody tr th {\n",
       "        vertical-align: top;\n",
       "    }\n",
       "\n",
       "    .dataframe thead th {\n",
       "        text-align: right;\n",
       "    }\n",
       "</style>\n",
       "<table border=\"1\" class=\"dataframe\">\n",
       "  <thead>\n",
       "    <tr style=\"text-align: right;\">\n",
       "      <th></th>\n",
       "      <th>F_beta_macro</th>\n",
       "      <th>G_beta_macro</th>\n",
       "      <th>macro_auc</th>\n",
       "    </tr>\n",
       "  </thead>\n",
       "  <tbody>\n",
       "    <tr>\n",
       "      <th>0</th>\n",
       "      <td>0.477571</td>\n",
       "      <td>0.215697</td>\n",
       "      <td>0.568895</td>\n",
       "    </tr>\n",
       "  </tbody>\n",
       "</table>\n",
       "</div>"
      ],
      "text/plain": [
       "   F_beta_macro  G_beta_macro  macro_auc\n",
       "0      0.477571      0.215697   0.568895"
      ]
     },
     "execution_count": 38,
     "metadata": {},
     "output_type": "execute_result"
    }
   ],
   "source": [
    "data = valid_generator\n",
    "model = load_model('cnn_lstm_22thmay.h5')\n",
    "batches = len(data)\n",
    "all_true = []\n",
    "all_pred = []\n",
    "for batch in tqdm.tqdm(range(batches)):\n",
    "    xVal, yVal = next(data)\n",
    "    val_pred = model.predict(xVal)\n",
    "    val_true = yVal\n",
    "    all_true.append(val_true)\n",
    "    all_pred.append(val_pred)\n",
    "preds_array = np.concatenate(all_pred, axis = 0)\n",
    "true_array = np.concatenate(all_true, axis = 0)\n",
    "thresholds = get_thresholds(true=true_array, pred=preds_array)\n",
    "plotAUC_ROC(true_array, preds_array, superclass_cols, 'validation data cnn+LSTM')\n",
    "evaluate_experiment(true_array, preds_array, thresholds=thresholds)"
   ]
  },
  {
   "cell_type": "code",
   "execution_count": 39,
   "metadata": {},
   "outputs": [
    {
     "name": "stdout",
     "output_type": "stream",
     "text": [
      "WARNING:tensorflow:Layer lstm_19 will not use cuDNN kernels since it doesn't meet the criteria. It will use a generic GPU kernel as fallback when running on GPU.\n"
     ]
    },
    {
     "name": "stderr",
     "output_type": "stream",
     "text": [
      "  0%|          | 0/68 [00:00<?, ?it/s]2022-05-22 21:44:56.637490: I tensorflow/core/grappler/optimizers/custom_graph_optimizer_registry.cc:113] Plugin optimizer for device_type GPU is enabled.\n",
      " 99%|█████████▊| 67/68 [01:03<00:00,  1.09it/s]2022-05-22 21:45:59.698257: I tensorflow/core/grappler/optimizers/custom_graph_optimizer_registry.cc:113] Plugin optimizer for device_type GPU is enabled.\n",
      "100%|██████████| 68/68 [01:04<00:00,  1.06it/s]\n"
     ]
    },
    {
     "name": "stdout",
     "output_type": "stream",
     "text": [
      "Best Threshold=0.471000, G-Mean=0.469\n",
      "Best Threshold=0.247585, G-Mean=0.510\n",
      "Best Threshold=0.240657, G-Mean=0.560\n",
      "Best Threshold=0.115518, G-Mean=0.693\n",
      "Best Threshold=0.212060, G-Mean=0.571\n"
     ]
    },
    {
     "data": {
      "image/png": "[encoded data removed]",
      "text/plain": [
       "<Figure size 432x288 with 1 Axes>"
      ]
     },
     "metadata": {
      "needs_background": "light"
     },
     "output_type": "display_data"
    },
    {
     "data": {
      "text/html": [
       "<div>\n",
       "<style scoped>\n",
       "    .dataframe tbody tr th:only-of-type {\n",
       "        vertical-align: middle;\n",
       "    }\n",
       "\n",
       "    .dataframe tbody tr th {\n",
       "        vertical-align: top;\n",
       "    }\n",
       "\n",
       "    .dataframe thead th {\n",
       "        text-align: right;\n",
       "    }\n",
       "</style>\n",
       "<table border=\"1\" class=\"dataframe\">\n",
       "  <thead>\n",
       "    <tr style=\"text-align: right;\">\n",
       "      <th></th>\n",
       "      <th>F_beta_macro</th>\n",
       "      <th>G_beta_macro</th>\n",
       "      <th>macro_auc</th>\n",
       "    </tr>\n",
       "  </thead>\n",
       "  <tbody>\n",
       "    <tr>\n",
       "      <th>0</th>\n",
       "      <td>0.474346</td>\n",
       "      <td>0.214451</td>\n",
       "      <td>0.568319</td>\n",
       "    </tr>\n",
       "  </tbody>\n",
       "</table>\n",
       "</div>"
      ],
      "text/plain": [
       "   F_beta_macro  G_beta_macro  macro_auc\n",
       "0      0.474346      0.214451   0.568319"
      ]
     },
     "execution_count": 39,
     "metadata": {},
     "output_type": "execute_result"
    }
   ],
   "source": [
    "data = test_generator\n",
    "model = load_model('cnn_lstm_22thmay.h5')\n",
    "batches = len(data)\n",
    "all_true = []\n",
    "all_pred = []\n",
    "for batch in tqdm.tqdm(range(batches)):\n",
    "    xVal, yVal = next(data)\n",
    "    val_pred = model.predict(xVal)\n",
    "    val_true = yVal\n",
    "    all_true.append(val_true)\n",
    "    all_pred.append(val_pred)\n",
    "preds_array = np.concatenate(all_pred, axis = 0)\n",
    "true_array = np.concatenate(all_true, axis = 0)\n",
    "thresholds = get_thresholds(true=true_array, pred=preds_array)\n",
    "plotAUC_ROC(true_array, preds_array, superclass_cols, 'test data cnn+LSTM')\n",
    "evaluate_experiment(true_array, preds_array, thresholds=thresholds)"
   ]
  },
  {
   "cell_type": "markdown",
   "metadata": {},
   "source": [
    "# Inception net"
   ]
  },
  {
   "cell_type": "code",
   "execution_count": null,
   "metadata": {},
   "outputs": [],
   "source": [
    "size = (256, 256)\n",
    "train_generator, valid_generator,test_generator = extract_generators(train_datagen, test_datagen,\n",
    "                                        valid_datagen, size = size, color_mode='rgb' )"
   ]
  },
  {
   "cell_type": "code",
   "execution_count": 40,
   "metadata": {},
   "outputs": [],
   "source": [
    "from tensorflow.keras.applications import resnet, InceptionV3\n",
    "from tensorflow.keras.layers import GlobalAveragePooling2D, Dropout\n",
    "from tensorflow.keras.models import Model\n",
    "from tensorflow.keras.callbacks import EarlyStopping, ModelCheckpoint"
   ]
  },
  {
   "cell_type": "code",
   "execution_count": 45,
   "metadata": {},
   "outputs": [],
   "source": [
    "input_shape_ = (256, 256, 3)\n",
    "seed = 42\n",
    "base_model = InceptionV3(weights= 'imagenet', include_top=False, input_shape= input_shape_)"
   ]
  },
  {
   "cell_type": "code",
   "execution_count": 46,
   "metadata": {},
   "outputs": [],
   "source": [
    "# # define CNN model\n",
    "model=base_model.output\n",
    "# cnn = Sequential()\n",
    "\n",
    "model = Conv2D(filters = 50, kernel_size=(5,5),  strides=2, input_shape = input_shape_,\n",
    "                activation=tf.keras.layers.LeakyReLU(alpha=0.3), padding='same',\n",
    "                kernel_initializer=tf.keras.initializers.GlorotNormal(seed=seed))(model)\n",
    "model = MaxPooling2D(pool_size = (2,2), padding='same',)(model)\n",
    "model = Dropout(0.3)(model)\n",
    "\n",
    "model = Conv2D(filters = 30, kernel_size=(5,5),  strides=2, \n",
    "                activation=tf.keras.layers.LeakyReLU(alpha=0.3), padding='same',\n",
    "                kernel_initializer=tf.keras.initializers.GlorotNormal(seed=seed))(model)\n",
    "model = MaxPooling2D(pool_size = (2,2), padding='same',)(model)\n",
    "model = Dropout(0.3)(model)\n",
    "\n",
    "model = Conv2D(filters = 20, kernel_size=(3,3), strides=2,\n",
    "                activation=tf.keras.layers.LeakyReLU(alpha=0.3), padding='same',\n",
    "                kernel_initializer=tf.keras.initializers.GlorotNormal(seed=seed))(model)\n",
    "model = MaxPooling2D(pool_size = (2,2), padding='same',)(model)\n",
    "model = Dropout(0.2)(model)\n",
    "\n",
    "model = Conv2D(filters = 10, kernel_size=(3,3), strides=2, \n",
    "               activation=tf.keras.layers.LeakyReLU(alpha=0.3), padding='same',\n",
    "               kernel_initializer=tf.keras.initializers.GlorotNormal(seed=seed))(model)\n",
    "model = MaxPooling2D(pool_size = (2,2), padding='same',)(model)\n",
    "model = Dropout(0.2)(model)\n",
    "\n",
    "model = Flatten()(model)\n",
    "predictions =  Dense(5, activation='sigmoid')(model)\n",
    "model = Model(inputs = base_model.input, outputs = predictions)"
   ]
  },
  {
   "cell_type": "code",
   "execution_count": 47,
   "metadata": {},
   "outputs": [],
   "source": [
    "for i in range(50):\n",
    "    base_model.layers[i].trainable = False"
   ]
  },
  {
   "cell_type": "code",
   "execution_count": 50,
   "metadata": {},
   "outputs": [],
   "source": [
    "es=EarlyStopping(monitor='val_accuracy', mode='max', verbose=1, patience=10)\n",
    "\n",
    "mc = ModelCheckpoint('best_model_inception_50freeze.h5', monitor='val_accuracy'\n",
    "                    ,mode='max',save_best_only=True)\n",
    "\n",
    "metrics = Metrics(val_data = valid_generator)"
   ]
  },
  {
   "cell_type": "code",
   "execution_count": 51,
   "metadata": {},
   "outputs": [],
   "source": [
    "model.compile(optimizer='Adam', loss = 'binary_crossentropy', metrics='accuracy')"
   ]
  },
  {
   "cell_type": "code",
   "execution_count": null,
   "metadata": {},
   "outputs": [
    {
     "name": "stdout",
     "output_type": "stream",
     "text": [
      "Epoch 1/100\n"
     ]
    },
    {
     "name": "stderr",
     "output_type": "stream",
     "text": [
      "2022-05-22 18:34:05.291510: W tensorflow/core/platform/profile_utils/cpu_utils.cc:128] Failed to get CPU frequency: 0 Hz\n",
      "2022-05-22 18:34:07.795798: I tensorflow/core/grappler/optimizers/custom_graph_optimizer_registry.cc:113] Plugin optimizer for device_type GPU is enabled.\n"
     ]
    },
    {
     "name": "stdout",
     "output_type": "stream",
     "text": [
      "268/268 [==============================] - ETA: 0s - loss: 0.4762 - accuracy: 0.4992"
     ]
    },
    {
     "name": "stderr",
     "output_type": "stream",
     "text": [
      "2022-05-22 18:44:13.572584: I tensorflow/core/grappler/optimizers/custom_graph_optimizer_registry.cc:113] Plugin optimizer for device_type GPU is enabled.\n"
     ]
    },
    {
     "name": "stdout",
     "output_type": "stream",
     "text": [
      "268/268 [==============================] - 656s 2s/step - loss: 0.4762 - accuracy: 0.4992 - val_loss: 0.7197 - val_accuracy: 0.3340\n",
      "Epoch 2/100\n",
      "268/268 [==============================] - 721s 3s/step - loss: 0.4003 - accuracy: 0.5885 - val_loss: 0.7653 - val_accuracy: 0.5487\n",
      "Epoch 3/100\n",
      "268/268 [==============================] - 748s 3s/step - loss: 0.3758 - accuracy: 0.6141 - val_loss: 0.3941 - val_accuracy: 0.5881\n",
      "Epoch 4/100\n",
      "268/268 [==============================] - 556s 2s/step - loss: 0.3550 - accuracy: 0.6337 - val_loss: 0.6523 - val_accuracy: 0.5737\n",
      "Epoch 5/100\n",
      "268/268 [==============================] - 1145s 4s/step - loss: 0.3389 - accuracy: 0.6581 - val_loss: 0.6202 - val_accuracy: 0.5645\n",
      "Epoch 6/100\n",
      "268/268 [==============================] - 518s 2s/step - loss: 0.3200 - accuracy: 0.6770 - val_loss: 0.5286 - val_accuracy: 0.6169\n",
      "Epoch 7/100\n",
      "268/268 [==============================] - 573s 2s/step - loss: 0.3019 - accuracy: 0.6888 - val_loss: 0.4039 - val_accuracy: 0.6127\n",
      "Epoch 8/100\n",
      "268/268 [==============================] - 599s 2s/step - loss: 0.2772 - accuracy: 0.7179 - val_loss: 0.3760 - val_accuracy: 0.6016\n",
      "Epoch 9/100\n",
      "268/268 [==============================] - 626s 2s/step - loss: 0.2558 - accuracy: 0.7359 - val_loss: 0.5364 - val_accuracy: 0.6095\n",
      "Epoch 10/100\n",
      "268/268 [==============================] - 699s 3s/step - loss: 0.2283 - accuracy: 0.7581 - val_loss: 0.5764 - val_accuracy: 0.6039\n",
      "Epoch 11/100\n",
      "268/268 [==============================] - 675s 3s/step - loss: 0.2064 - accuracy: 0.7777 - val_loss: 0.5149 - val_accuracy: 0.4968\n",
      "Epoch 12/100\n",
      "268/268 [==============================] - 681s 3s/step - loss: 0.1818 - accuracy: 0.8003 - val_loss: 0.5017 - val_accuracy: 0.5802\n",
      "Epoch 13/100\n",
      " 67/268 [======>.......................] - ETA: 12:04 - loss: 0.1470 - accuracy: 0.8190"
     ]
    }
   ],
   "source": [
    "H = model.fit_generator(train_generator,validation_data=valid_generator,\n",
    "                        epochs=100,verbose=1,callbacks=[mc, es])"
   ]
  },
  {
   "cell_type": "markdown",
   "metadata": {},
   "source": [
    "## Load and predict"
   ]
  },
  {
   "cell_type": "code",
   "execution_count": 52,
   "metadata": {},
   "outputs": [
    {
     "name": "stdout",
     "output_type": "stream",
     "text": [
      "Found 17111 validated image filenames.\n",
      "Found 2163 validated image filenames.\n",
      "Found 2156 validated image filenames.\n"
     ]
    }
   ],
   "source": [
    "size = (256, 256)\n",
    "train_generator, valid_generator,test_generator = extract_generators(train_datagen, test_datagen,\n",
    "                                        valid_datagen, size = size, color_mode='rgb' )"
   ]
  },
  {
   "cell_type": "code",
   "execution_count": 55,
   "metadata": {},
   "outputs": [
    {
     "name": "stderr",
     "output_type": "stream",
     "text": [
      "  0%|          | 0/68 [00:00<?, ?it/s]2022-05-22 21:53:10.559000: I tensorflow/core/grappler/optimizers/custom_graph_optimizer_registry.cc:113] Plugin optimizer for device_type GPU is enabled.\n",
      " 65%|██████▍   | 44/68 [00:47<00:25,  1.08s/it]2022-05-22 21:53:57.758754: I tensorflow/core/grappler/optimizers/custom_graph_optimizer_registry.cc:113] Plugin optimizer for device_type GPU is enabled.\n",
      "100%|██████████| 68/68 [01:13<00:00,  1.09s/it]"
     ]
    },
    {
     "name": "stdout",
     "output_type": "stream",
     "text": [
      "Best Threshold=0.867595, G-Mean=0.823\n",
      "Best Threshold=0.208826, G-Mean=0.771\n",
      "Best Threshold=0.026715, G-Mean=0.736\n",
      "Best Threshold=0.023062, G-Mean=0.766\n",
      "Best Threshold=0.133056, G-Mean=0.773\n"
     ]
    },
    {
     "name": "stderr",
     "output_type": "stream",
     "text": [
      "\n"
     ]
    },
    {
     "data": {
      "image/png": "[encoded data removed]",
      "text/plain": [
       "<Figure size 432x288 with 1 Axes>"
      ]
     },
     "metadata": {
      "needs_background": "light"
     },
     "output_type": "display_data"
    },
    {
     "data": {
      "text/html": [
       "<div>\n",
       "<style scoped>\n",
       "    .dataframe tbody tr th:only-of-type {\n",
       "        vertical-align: middle;\n",
       "    }\n",
       "\n",
       "    .dataframe tbody tr th {\n",
       "        vertical-align: top;\n",
       "    }\n",
       "\n",
       "    .dataframe thead th {\n",
       "        text-align: right;\n",
       "    }\n",
       "</style>\n",
       "<table border=\"1\" class=\"dataframe\">\n",
       "  <thead>\n",
       "    <tr style=\"text-align: right;\">\n",
       "      <th></th>\n",
       "      <th>F_beta_macro</th>\n",
       "      <th>G_beta_macro</th>\n",
       "      <th>macro_auc</th>\n",
       "    </tr>\n",
       "  </thead>\n",
       "  <tbody>\n",
       "    <tr>\n",
       "      <th>0</th>\n",
       "      <td>0.652116</td>\n",
       "      <td>0.364176</td>\n",
       "      <td>0.840665</td>\n",
       "    </tr>\n",
       "  </tbody>\n",
       "</table>\n",
       "</div>"
      ],
      "text/plain": [
       "   F_beta_macro  G_beta_macro  macro_auc\n",
       "0      0.652116      0.364176   0.840665"
      ]
     },
     "execution_count": 55,
     "metadata": {},
     "output_type": "execute_result"
    }
   ],
   "source": [
    "data = valid_generator\n",
    "model = load_model('best_model_inception_50freeze.h5')\n",
    "batches = len(data)\n",
    "all_true = []\n",
    "all_pred = []\n",
    "for batch in tqdm.tqdm(range(batches)):\n",
    "    xVal, yVal = next(data)\n",
    "    val_pred = model.predict(xVal)\n",
    "    val_true = yVal\n",
    "    all_true.append(val_true)\n",
    "    all_pred.append(val_pred)\n",
    "preds_array = np.concatenate(all_pred, axis = 0)\n",
    "true_array = np.concatenate(all_true, axis = 0)\n",
    "thresholds = get_thresholds(true=true_array, pred=preds_array)\n",
    "plotAUC_ROC(true_array, preds_array, superclass_cols, 'validation data Inception Net')\n",
    "evaluate_experiment(true_array, preds_array, thresholds=thresholds)"
   ]
  },
  {
   "cell_type": "code",
   "execution_count": 56,
   "metadata": {},
   "outputs": [
    {
     "name": "stderr",
     "output_type": "stream",
     "text": [
      "  0%|          | 0/68 [00:00<?, ?it/s]2022-05-22 21:54:26.638651: I tensorflow/core/grappler/optimizers/custom_graph_optimizer_registry.cc:113] Plugin optimizer for device_type GPU is enabled.\n",
      " 99%|█████████▊| 67/68 [01:12<00:01,  1.06s/it]2022-05-22 21:55:38.380531: I tensorflow/core/grappler/optimizers/custom_graph_optimizer_registry.cc:113] Plugin optimizer for device_type GPU is enabled.\n",
      "100%|██████████| 68/68 [01:13<00:00,  1.09s/it]"
     ]
    },
    {
     "name": "stdout",
     "output_type": "stream",
     "text": [
      "Best Threshold=0.871738, G-Mean=0.808\n",
      "Best Threshold=0.238455, G-Mean=0.757\n",
      "Best Threshold=0.023564, G-Mean=0.748\n",
      "Best Threshold=0.022880, G-Mean=0.767\n",
      "Best Threshold=0.087897, G-Mean=0.748\n"
     ]
    },
    {
     "name": "stderr",
     "output_type": "stream",
     "text": [
      "\n"
     ]
    },
    {
     "data": {
      "image/png": "[encoded data removed]",
      "text/plain": [
       "<Figure size 432x288 with 1 Axes>"
      ]
     },
     "metadata": {
      "needs_background": "light"
     },
     "output_type": "display_data"
    },
    {
     "data": {
      "text/html": [
       "<div>\n",
       "<style scoped>\n",
       "    .dataframe tbody tr th:only-of-type {\n",
       "        vertical-align: middle;\n",
       "    }\n",
       "\n",
       "    .dataframe tbody tr th {\n",
       "        vertical-align: top;\n",
       "    }\n",
       "\n",
       "    .dataframe thead th {\n",
       "        text-align: right;\n",
       "    }\n",
       "</style>\n",
       "<table border=\"1\" class=\"dataframe\">\n",
       "  <thead>\n",
       "    <tr style=\"text-align: right;\">\n",
       "      <th></th>\n",
       "      <th>F_beta_macro</th>\n",
       "      <th>G_beta_macro</th>\n",
       "      <th>macro_auc</th>\n",
       "    </tr>\n",
       "  </thead>\n",
       "  <tbody>\n",
       "    <tr>\n",
       "      <th>0</th>\n",
       "      <td>0.642909</td>\n",
       "      <td>0.347884</td>\n",
       "      <td>0.841648</td>\n",
       "    </tr>\n",
       "  </tbody>\n",
       "</table>\n",
       "</div>"
      ],
      "text/plain": [
       "   F_beta_macro  G_beta_macro  macro_auc\n",
       "0      0.642909      0.347884   0.841648"
      ]
     },
     "execution_count": 56,
     "metadata": {},
     "output_type": "execute_result"
    }
   ],
   "source": [
    "data = test_generator\n",
    "model = load_model('best_model_inception_50freeze.h5')\n",
    "batches = len(data)\n",
    "all_true = []\n",
    "all_pred = []\n",
    "for batch in tqdm.tqdm(range(batches)):\n",
    "    xVal, yVal = next(data)\n",
    "    val_pred = model.predict(xVal)\n",
    "    val_true = yVal\n",
    "    all_true.append(val_true)\n",
    "    all_pred.append(val_pred)\n",
    "preds_array = np.concatenate(all_pred, axis = 0)\n",
    "true_array = np.concatenate(all_true, axis = 0)\n",
    "thresholds = get_thresholds(true=true_array, pred=preds_array)\n",
    "plotAUC_ROC(true_array, preds_array, superclass_cols, 'test data Inception Net')\n",
    "evaluate_experiment(true_array, preds_array, thresholds=thresholds)"
   ]
  }
 ],
 "metadata": {
  "interpreter": {
   "hash": "ca8fc8df2cc5e8e864d2f734898ff3c9d48c737676f48fba4955ae7ec9d8ab83"
  },
  "kernelspec": {
   "display_name": "Python 3.8.13 ('ecg_env')",
   "language": "python",
   "name": "python3"
  },
  "language_info": {
   "codemirror_mode": {
    "name": "ipython",
    "version": 3
   },
   "file_extension": ".py",
   "mimetype": "text/x-python",
   "name": "python",
   "nbconvert_exporter": "python",
   "pygments_lexer": "ipython3",
   "version": "3.8.13"
  },
  "orig_nbformat": 4
 },
 "nbformat": 4,
 "nbformat_minor": 2
}
